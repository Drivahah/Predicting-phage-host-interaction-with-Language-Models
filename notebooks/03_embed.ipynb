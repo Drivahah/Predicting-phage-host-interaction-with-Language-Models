{
 "cells": [
  {
   "cell_type": "code",
   "execution_count": 3,
   "metadata": {},
   "outputs": [
    {
     "name": "stderr",
     "output_type": "stream",
     "text": [
      "/home/morty/Projects/Thesis/PH/lib/python3.9/site-packages/tqdm/auto.py:21: TqdmWarning: IProgress not found. Please update jupyter and ipywidgets. See https://ipywidgets.readthedocs.io/en/stable/user_install.html\n",
      "  from .autonotebook import tqdm as notebook_tqdm\n"
     ]
    }
   ],
   "source": [
    "from bio_embeddings.embed import prottrans_t5_embedder"
   ]
  },
  {
   "cell_type": "code",
   "execution_count": 4,
   "metadata": {},
   "outputs": [
    {
     "ename": "KeyboardInterrupt",
     "evalue": "",
     "output_type": "error",
     "traceback": [
      "\u001b[0;31m---------------------------------------------------------------------------\u001b[0m",
      "\u001b[0;31mKeyboardInterrupt\u001b[0m                         Traceback (most recent call last)",
      "\u001b[1;32m/home/morty/Projects/Thesis/notebooks/03_embed.ipynb Cell 2\u001b[0m line \u001b[0;36m1\n\u001b[0;32m----> <a href='vscode-notebook-cell:/home/morty/Projects/Thesis/notebooks/03_embed.ipynb#W2sZmlsZQ%3D%3D?line=0'>1</a>\u001b[0m embedder \u001b[39m=\u001b[39m prottrans_t5_embedder\u001b[39m.\u001b[39;49mProtTransT5XLU50Embedder()\n",
      "File \u001b[0;32m~/Projects/Thesis/PH/lib/python3.9/site-packages/bio_embeddings/embed/prottrans_t5_embedder.py:55\u001b[0m, in \u001b[0;36mProtTransT5Embedder.__init__\u001b[0;34m(self, **kwargs)\u001b[0m\n\u001b[1;32m     45\u001b[0m \u001b[39mdef\u001b[39;00m \u001b[39m__init__\u001b[39m(\u001b[39mself\u001b[39m, \u001b[39m*\u001b[39m\u001b[39m*\u001b[39mkwargs):\n\u001b[1;32m     46\u001b[0m \u001b[39m    \u001b[39m\u001b[39m\"\"\"\u001b[39;00m\n\u001b[1;32m     47\u001b[0m \u001b[39m    Initialize T5 embedder.\u001b[39;00m\n\u001b[1;32m     48\u001b[0m \n\u001b[0;32m   (...)\u001b[0m\n\u001b[1;32m     53\u001b[0m \u001b[39m    :param bool half_precision_model: Use the model in half precision (float16) mode (default: False)\u001b[39;00m\n\u001b[1;32m     54\u001b[0m \u001b[39m    \"\"\"\u001b[39;00m\n\u001b[0;32m---> 55\u001b[0m     \u001b[39msuper\u001b[39;49m()\u001b[39m.\u001b[39;49m\u001b[39m__init__\u001b[39;49m(\u001b[39m*\u001b[39;49m\u001b[39m*\u001b[39;49mkwargs)\n\u001b[1;32m     57\u001b[0m     \u001b[39mself\u001b[39m\u001b[39m.\u001b[39m_model_directory \u001b[39m=\u001b[39m \u001b[39mself\u001b[39m\u001b[39m.\u001b[39m_options[\u001b[39m\"\u001b[39m\u001b[39mmodel_directory\u001b[39m\u001b[39m\"\u001b[39m]\n\u001b[1;32m     58\u001b[0m     \u001b[39m# Until we know whether we need the decoder, let's keep it here as an undocumented option.\u001b[39;00m\n\u001b[1;32m     59\u001b[0m     \u001b[39m# Should the need arise we can just split this class in to an encoder and a decoder subclass\u001b[39;00m\n\u001b[1;32m     60\u001b[0m     \u001b[39m# by setting one subclass to _decoder=True and the other to _decoder=False\u001b[39;00m\n",
      "File \u001b[0;32m~/Projects/Thesis/PH/lib/python3.9/site-packages/bio_embeddings/embed/embedder_interfaces.py:59\u001b[0m, in \u001b[0;36mEmbedderInterface.__init__\u001b[0;34m(self, device, **kwargs)\u001b[0m\n\u001b[1;32m     57\u001b[0m \u001b[39mfor\u001b[39;00m directory \u001b[39min\u001b[39;00m \u001b[39mself\u001b[39m\u001b[39m.\u001b[39mnecessary_directories:\n\u001b[1;32m     58\u001b[0m     \u001b[39mif\u001b[39;00m \u001b[39mnot\u001b[39;00m \u001b[39mself\u001b[39m\u001b[39m.\u001b[39m_options\u001b[39m.\u001b[39mget(directory):\n\u001b[0;32m---> 59\u001b[0m         \u001b[39mself\u001b[39m\u001b[39m.\u001b[39m_options[directory] \u001b[39m=\u001b[39m get_model_directories_from_zip(\n\u001b[1;32m     60\u001b[0m             model\u001b[39m=\u001b[39;49m\u001b[39mself\u001b[39;49m\u001b[39m.\u001b[39;49mname, directory\u001b[39m=\u001b[39;49mdirectory\n\u001b[1;32m     61\u001b[0m         )\n\u001b[1;32m     63\u001b[0m         files_loaded \u001b[39m+\u001b[39m\u001b[39m=\u001b[39m \u001b[39m1\u001b[39m\n\u001b[1;32m     65\u001b[0m total_necessary \u001b[39m=\u001b[39m \u001b[39mlen\u001b[39m(\u001b[39mself\u001b[39m\u001b[39m.\u001b[39mnecessary_files) \u001b[39m+\u001b[39m \u001b[39mlen\u001b[39m(\u001b[39mself\u001b[39m\u001b[39m.\u001b[39mnecessary_directories)\n",
      "File \u001b[0;32m~/Projects/Thesis/PH/lib/python3.9/site-packages/bio_embeddings/utilities/remote_file_retriever.py:79\u001b[0m, in \u001b[0;36mget_model_directories_from_zip\u001b[0;34m(model, directory, overwrite_cache)\u001b[0m\n\u001b[1;32m     74\u001b[0m req \u001b[39m=\u001b[39m request\u001b[39m.\u001b[39mRequest(url, headers\u001b[39m=\u001b[39m{\n\u001b[1;32m     75\u001b[0m     \u001b[39m'\u001b[39m\u001b[39mUser-Agent\u001b[39m\u001b[39m'\u001b[39m : \u001b[39m'\u001b[39m\u001b[39mMozilla/5.0 (Windows NT 6.1; Win64; x64)\u001b[39m\u001b[39m'\u001b[39m\n\u001b[1;32m     76\u001b[0m })\n\u001b[1;32m     78\u001b[0m \u001b[39mwith\u001b[39;00m request\u001b[39m.\u001b[39murlopen(req) \u001b[39mas\u001b[39;00m response, \u001b[39mopen\u001b[39m(file_name, \u001b[39m'\u001b[39m\u001b[39mwb\u001b[39m\u001b[39m'\u001b[39m) \u001b[39mas\u001b[39;00m outfile:\n\u001b[0;32m---> 79\u001b[0m     shutil\u001b[39m.\u001b[39;49mcopyfileobj(response, outfile)\n\u001b[1;32m     81\u001b[0m \u001b[39m# TODO: re-enable TqdmUpTo\u001b[39;00m\n\u001b[1;32m     82\u001b[0m \u001b[39m# with TqdmUpTo(\u001b[39;00m\n\u001b[1;32m     83\u001b[0m \u001b[39m#     unit=\"B\", unit_scale=True, miniters=1, desc=url.split(\"/\")[-1]\u001b[39;00m\n\u001b[1;32m     84\u001b[0m \u001b[39m# ) as t:\u001b[39;00m\n\u001b[1;32m     85\u001b[0m \u001b[39m#     request.urlretrieve(url, filename=file_name, reporthook=t.update_to)\u001b[39;00m\n\u001b[1;32m     87\u001b[0m logger\u001b[39m.\u001b[39minfo(\n\u001b[1;32m     88\u001b[0m     \u001b[39m\"\u001b[39m\u001b[39mUnzipping \u001b[39m\u001b[39m{}\u001b[39;00m\u001b[39m for \u001b[39m\u001b[39m{}\u001b[39;00m\u001b[39m and storing in \u001b[39m\u001b[39m'\u001b[39m\u001b[39m{}\u001b[39;00m\u001b[39m'\u001b[39m\u001b[39m.\u001b[39m\u001b[39m\"\u001b[39m\u001b[39m.\u001b[39mformat(\n\u001b[1;32m     89\u001b[0m         file_name, model, cache_path\n\u001b[1;32m     90\u001b[0m     )\n\u001b[1;32m     91\u001b[0m )\n",
      "File \u001b[0;32m~/Projects/Thesis/PH/lib/python3.9/shutil.py:205\u001b[0m, in \u001b[0;36mcopyfileobj\u001b[0;34m(fsrc, fdst, length)\u001b[0m\n\u001b[1;32m    203\u001b[0m fdst_write \u001b[39m=\u001b[39m fdst\u001b[39m.\u001b[39mwrite\n\u001b[1;32m    204\u001b[0m \u001b[39mwhile\u001b[39;00m \u001b[39mTrue\u001b[39;00m:\n\u001b[0;32m--> 205\u001b[0m     buf \u001b[39m=\u001b[39m fsrc_read(length)\n\u001b[1;32m    206\u001b[0m     \u001b[39mif\u001b[39;00m \u001b[39mnot\u001b[39;00m buf:\n\u001b[1;32m    207\u001b[0m         \u001b[39mbreak\u001b[39;00m\n",
      "File \u001b[0;32m~/Projects/Thesis/PH/lib/python3.9/http/client.py:463\u001b[0m, in \u001b[0;36mHTTPResponse.read\u001b[0;34m(self, amt)\u001b[0m\n\u001b[1;32m    460\u001b[0m \u001b[39mif\u001b[39;00m amt \u001b[39mis\u001b[39;00m \u001b[39mnot\u001b[39;00m \u001b[39mNone\u001b[39;00m:\n\u001b[1;32m    461\u001b[0m     \u001b[39m# Amount is given, implement using readinto\u001b[39;00m\n\u001b[1;32m    462\u001b[0m     b \u001b[39m=\u001b[39m \u001b[39mbytearray\u001b[39m(amt)\n\u001b[0;32m--> 463\u001b[0m     n \u001b[39m=\u001b[39m \u001b[39mself\u001b[39;49m\u001b[39m.\u001b[39;49mreadinto(b)\n\u001b[1;32m    464\u001b[0m     \u001b[39mreturn\u001b[39;00m \u001b[39mmemoryview\u001b[39m(b)[:n]\u001b[39m.\u001b[39mtobytes()\n\u001b[1;32m    465\u001b[0m \u001b[39melse\u001b[39;00m:\n\u001b[1;32m    466\u001b[0m     \u001b[39m# Amount is not given (unbounded read) so we must check self.length\u001b[39;00m\n\u001b[1;32m    467\u001b[0m     \u001b[39m# and self.chunked\u001b[39;00m\n",
      "File \u001b[0;32m~/Projects/Thesis/PH/lib/python3.9/http/client.py:507\u001b[0m, in \u001b[0;36mHTTPResponse.readinto\u001b[0;34m(self, b)\u001b[0m\n\u001b[1;32m    502\u001b[0m         b \u001b[39m=\u001b[39m \u001b[39mmemoryview\u001b[39m(b)[\u001b[39m0\u001b[39m:\u001b[39mself\u001b[39m\u001b[39m.\u001b[39mlength]\n\u001b[1;32m    504\u001b[0m \u001b[39m# we do not use _safe_read() here because this may be a .will_close\u001b[39;00m\n\u001b[1;32m    505\u001b[0m \u001b[39m# connection, and the user is reading more bytes than will be provided\u001b[39;00m\n\u001b[1;32m    506\u001b[0m \u001b[39m# (for example, reading in 1k chunks)\u001b[39;00m\n\u001b[0;32m--> 507\u001b[0m n \u001b[39m=\u001b[39m \u001b[39mself\u001b[39;49m\u001b[39m.\u001b[39;49mfp\u001b[39m.\u001b[39;49mreadinto(b)\n\u001b[1;32m    508\u001b[0m \u001b[39mif\u001b[39;00m \u001b[39mnot\u001b[39;00m n \u001b[39mand\u001b[39;00m b:\n\u001b[1;32m    509\u001b[0m     \u001b[39m# Ideally, we would raise IncompleteRead if the content-length\u001b[39;00m\n\u001b[1;32m    510\u001b[0m     \u001b[39m# wasn't satisfied, but it might break compatibility.\u001b[39;00m\n\u001b[1;32m    511\u001b[0m     \u001b[39mself\u001b[39m\u001b[39m.\u001b[39m_close_conn()\n",
      "File \u001b[0;32m~/Projects/Thesis/PH/lib/python3.9/socket.py:704\u001b[0m, in \u001b[0;36mSocketIO.readinto\u001b[0;34m(self, b)\u001b[0m\n\u001b[1;32m    702\u001b[0m \u001b[39mwhile\u001b[39;00m \u001b[39mTrue\u001b[39;00m:\n\u001b[1;32m    703\u001b[0m     \u001b[39mtry\u001b[39;00m:\n\u001b[0;32m--> 704\u001b[0m         \u001b[39mreturn\u001b[39;00m \u001b[39mself\u001b[39;49m\u001b[39m.\u001b[39;49m_sock\u001b[39m.\u001b[39;49mrecv_into(b)\n\u001b[1;32m    705\u001b[0m     \u001b[39mexcept\u001b[39;00m timeout:\n\u001b[1;32m    706\u001b[0m         \u001b[39mself\u001b[39m\u001b[39m.\u001b[39m_timeout_occurred \u001b[39m=\u001b[39m \u001b[39mTrue\u001b[39;00m\n",
      "\u001b[0;31mKeyboardInterrupt\u001b[0m: "
     ]
    }
   ],
   "source": [
    "embedder = prottrans_t5_embedder.ProtTransT5XLU50Embedder()"
   ]
  },
  {
   "cell_type": "code",
   "execution_count": null,
   "metadata": {},
   "outputs": [],
   "source": []
  }
 ],
 "metadata": {
  "kernelspec": {
   "display_name": "Python 3",
   "language": "python",
   "name": "python3"
  },
  "language_info": {
   "codemirror_mode": {
    "name": "ipython",
    "version": 3
   },
   "file_extension": ".py",
   "mimetype": "text/x-python",
   "name": "python",
   "nbconvert_exporter": "python",
   "pygments_lexer": "ipython3",
   "version": "3.9.18"
  }
 },
 "nbformat": 4,
 "nbformat_minor": 2
}
