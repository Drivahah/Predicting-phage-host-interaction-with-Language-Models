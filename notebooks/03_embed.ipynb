{
 "cells": [
  {
   "cell_type": "code",
   "execution_count": null,
   "metadata": {},
   "outputs": [],
   "source": [
    "import os\n",
    "import pandas  as pd\n",
    "from bio_embeddings.embed import prottrans_t5_embedder"
   ]
  },
  {
   "cell_type": "code",
   "execution_count": null,
   "metadata": {},
   "outputs": [],
   "source": [
    "embedder = prottrans_t5_embedder.ProtTransT5XLU50Embedder(device='cuda:0')"
   ]
  },
  {
   "cell_type": "markdown",
   "metadata": {},
   "source": [
    "## Load dataset"
   ]
  },
  {
   "cell_type": "code",
   "execution_count": null,
   "metadata": {},
   "outputs": [],
   "source": [
    "# Load 2_model_df.pkl\n",
    "INPUT_PATH = os.path.join('..', 'data', 'interim')\n",
    "protein_pairs = pd.read_pickle(os.path.join(INPUT_PATH, '2_model_df.pkl'))"
   ]
  },
  {
   "cell_type": "markdown",
   "metadata": {},
   "source": [
    "## Embed protein sequences"
   ]
  },
  {
   "cell_type": "code",
   "execution_count": null,
   "metadata": {},
   "outputs": [],
   "source": [
    "def embed_protein(sequence):\n",
    "    with open('3_log.txt', 'a') as f:\n",
    "        f.write(f'Input sequence lentgh: {len(sequence)}\\n')\n",
    "    return embedder.reduce_per_protein(embedder.embed(sequence))"
   ]
  },
  {
   "cell_type": "code",
   "execution_count": null,
   "metadata": {},
   "outputs": [],
   "source": [
    "# Add embeddings to protein_pairs\n",
    "protein_pairs['seqID_phage_embed'] = protein_pairs['seqID_phage'].astype(str).apply(embed_protein)\n",
    "protein_pairs['seqID_bacteria_embed'] = protein_pairs['seqID_bacteria'].astype(str).apply(embed_protein)"
   ]
  },
  {
   "cell_type": "markdown",
   "metadata": {},
   "source": [
    "## Save pickle"
   ]
  },
  {
   "cell_type": "code",
   "execution_count": null,
   "metadata": {},
   "outputs": [],
   "source": [
    "# Save 3_model_df.pkl\n",
    "OUT_PATH = os.path.join('..', 'data', 'interim')\n",
    "protein_pairs.to_pickle(os.path.join(OUT_PATH, '3_model_df.pkl'))"
   ]
  },
  {
   "cell_type": "code",
   "execution_count": null,
   "metadata": {},
   "outputs": [],
   "source": [
    "# create a txt test file \n",
    "with open(\"3_test.txt\", \"w\") as f:\n",
    "    f.write(\"03_embed finished successfully!\")"
   ]
  }
 ],
 "metadata": {
  "language_info": {
   "name": "python"
  }
 },
 "nbformat": 4,
 "nbformat_minor": 2
}
