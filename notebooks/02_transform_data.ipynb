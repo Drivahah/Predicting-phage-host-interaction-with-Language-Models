{
 "cells": [
  {
   "cell_type": "markdown",
   "metadata": {},
   "source": [
    "## 2_Transform_data"
   ]
  },
  {
   "cell_type": "markdown",
   "metadata": {},
   "source": [
    "### Import libraries"
   ]
  },
  {
   "cell_type": "code",
   "execution_count": 1,
   "metadata": {},
   "outputs": [],
   "source": [
    "import pandas as pd\n",
    "import numpy as np\n",
    "import os"
   ]
  },
  {
   "cell_type": "markdown",
   "metadata": {},
   "source": [
    "### Load clean data"
   ]
  },
  {
   "cell_type": "code",
   "execution_count": 2,
   "metadata": {},
   "outputs": [],
   "source": [
    "CLEAN_PATH = os.path.join('..', 'data', 'interim', 'clean')\n",
    "\n",
    "if not os.path.exists(CLEAN_PATH):\n",
    "    raise Exception('Clean data path does not exist. Did you run the notebook 01_clean_data.ipynb?')\n",
    "\n",
    "# Import pickle clean data\n",
    "# maffei = pd.read_pickle(os.path.join(CLEAN_PATH, '0_maffei.pkl'))\n",
    "receptors = pd.read_pickle(os.path.join(CLEAN_PATH, '0_receptors.pkl'))\n",
    "protein_NN = pd.read_pickle(os.path.join(CLEAN_PATH, '0_proteins.pkl'))\n",
    "basel_proteome = pd.read_pickle(os.path.join(CLEAN_PATH, '0_basel_proteome.pkl'))\n",
    "k12_proteome = pd.read_pickle(os.path.join(CLEAN_PATH, '0_k12_proteome.pkl'))\n"
   ]
  },
  {
   "cell_type": "code",
   "execution_count": 3,
   "metadata": {},
   "outputs": [],
   "source": [
    "# basel_proteome['bas'] = basel_proteome['locus_tag'].str.split('_', expand=True)[0]\n",
    "# basel_protein_names = basel_proteome.df['protein'].unique().tolist()\n",
    "# display(basel_proteome.head())"
   ]
  },
  {
   "cell_type": "markdown",
   "metadata": {},
   "source": [
    "## 01. Protein receptors\n",
    "Some of basel receptors are terminal (aka secondary) and some are primary. In both columns there are both LPS and proteins. We only care about proteins, so it might be a good idea to add a column 'receptor_protein' which selects the proteic one from the two. Also, the 'receptor' column has no proteins, so it might be useless for further analysis. \\\n",
    "We will keep only the values which find a match in the k12 gene set.\\\n",
    "NB: some values have a question mark. Since we are aiming fro an as-strict-as-possible labelling, these values are not included"
   ]
  },
  {
   "cell_type": "code",
   "execution_count": 4,
   "metadata": {},
   "outputs": [
    {
     "data": {
      "text/html": [
       "<div>\n",
       "<style scoped>\n",
       "    .dataframe tbody tr th:only-of-type {\n",
       "        vertical-align: middle;\n",
       "    }\n",
       "\n",
       "    .dataframe tbody tr th {\n",
       "        vertical-align: top;\n",
       "    }\n",
       "\n",
       "    .dataframe thead th {\n",
       "        text-align: right;\n",
       "    }\n",
       "</style>\n",
       "<table border=\"1\" class=\"dataframe\">\n",
       "  <thead>\n",
       "    <tr style=\"text-align: right;\">\n",
       "      <th></th>\n",
       "      <th>bas</th>\n",
       "      <th>genus</th>\n",
       "      <th>phage</th>\n",
       "      <th>morphotype</th>\n",
       "      <th>closest_relative</th>\n",
       "      <th>receptor_protein</th>\n",
       "    </tr>\n",
       "  </thead>\n",
       "  <tbody>\n",
       "    <tr>\n",
       "      <th>0</th>\n",
       "      <td>Bas01</td>\n",
       "      <td>Rtpvirus</td>\n",
       "      <td>Escherichia phage AugustePiccard</td>\n",
       "      <td>siphovirus</td>\n",
       "      <td>RTP (AM156909.1)</td>\n",
       "      <td>LptD</td>\n",
       "    </tr>\n",
       "    <tr>\n",
       "      <th>1</th>\n",
       "      <td>Bas02</td>\n",
       "      <td>Guelphvirus</td>\n",
       "      <td>Escherichia phage JeanPiccard</td>\n",
       "      <td>siphovirus</td>\n",
       "      <td>CEB_EC3a (NC_047812.1)</td>\n",
       "      <td>LptD</td>\n",
       "    </tr>\n",
       "    <tr>\n",
       "      <th>2</th>\n",
       "      <td>Bas03</td>\n",
       "      <td>Guelphvirus</td>\n",
       "      <td>Escherichia phage JulesPiccard</td>\n",
       "      <td>siphovirus</td>\n",
       "      <td>CEB_EC3a (NC_047812.1)</td>\n",
       "      <td>FhuA</td>\n",
       "    </tr>\n",
       "    <tr>\n",
       "      <th>3</th>\n",
       "      <td>Bas04</td>\n",
       "      <td>Warwickvirus</td>\n",
       "      <td>Escherichia phage FritzSarasin</td>\n",
       "      <td>siphovirus</td>\n",
       "      <td>tonnikala (NC_049817.1)</td>\n",
       "      <td>BtuB</td>\n",
       "    </tr>\n",
       "    <tr>\n",
       "      <th>4</th>\n",
       "      <td>Bas05</td>\n",
       "      <td>Warwickvirus</td>\n",
       "      <td>Escherichia phage PeterMerian</td>\n",
       "      <td>siphovirus</td>\n",
       "      <td>XY3 (MN781674.1)</td>\n",
       "      <td>FhuA</td>\n",
       "    </tr>\n",
       "  </tbody>\n",
       "</table>\n",
       "</div>"
      ],
      "text/plain": [
       "     bas         genus                             phage  morphotype  \\\n",
       "0  Bas01      Rtpvirus  Escherichia phage AugustePiccard  siphovirus   \n",
       "1  Bas02   Guelphvirus     Escherichia phage JeanPiccard  siphovirus   \n",
       "2  Bas03   Guelphvirus    Escherichia phage JulesPiccard  siphovirus   \n",
       "3  Bas04  Warwickvirus    Escherichia phage FritzSarasin  siphovirus   \n",
       "4  Bas05  Warwickvirus     Escherichia phage PeterMerian  siphovirus   \n",
       "\n",
       "          closest_relative receptor_protein  \n",
       "0         RTP (AM156909.1)             LptD  \n",
       "1   CEB_EC3a (NC_047812.1)             LptD  \n",
       "2   CEB_EC3a (NC_047812.1)             FhuA  \n",
       "3  tonnikala (NC_049817.1)             BtuB  \n",
       "4         XY3 (MN781674.1)             FhuA  "
      ]
     },
     "metadata": {},
     "output_type": "display_data"
    },
    {
     "data": {
      "text/plain": [
       "(50, 6)"
      ]
     },
     "metadata": {},
     "output_type": "display_data"
    }
   ],
   "source": [
    "# Get a set of the elements in a df\n",
    "GN_set = set(k12_proteome['GN'].str.lower().tolist())\n",
    "\n",
    "# Create a subset that contains only the rows where either primary_receptor or terminal_receptor are in GN_set\n",
    "receptors = receptors[(receptors['primary_receptor'].str.lower().isin(GN_set)) | (receptors['terminal_receptor'].str.lower().isin(GN_set))]\n",
    "receptors['receptor_protein'] = np.where(receptors['primary_receptor'].str.lower().isin(GN_set), receptors['primary_receptor'], \n",
    "                                      np.where(receptors['terminal_receptor'].str.lower().isin(GN_set), receptors['terminal_receptor'], np.nan))\n",
    "receptors.drop(columns=['primary_receptor', 'terminal_receptor', 'receptor'], inplace=True)\n",
    "\n",
    "\n",
    "display(receptors.head())\n",
    "display(receptors.shape)"
   ]
  },
  {
   "cell_type": "markdown",
   "metadata": {},
   "source": [
    "The number of samples was reduced from 78 to 50.\\\n",
    "Let's now check for the unicity of the gene names in k12 proteome"
   ]
  },
  {
   "cell_type": "code",
   "execution_count": 5,
   "metadata": {},
   "outputs": [
    {
     "data": {
      "text/html": [
       "<div>\n",
       "<style scoped>\n",
       "    .dataframe tbody tr th:only-of-type {\n",
       "        vertical-align: middle;\n",
       "    }\n",
       "\n",
       "    .dataframe tbody tr th {\n",
       "        vertical-align: top;\n",
       "    }\n",
       "\n",
       "    .dataframe thead th {\n",
       "        text-align: right;\n",
       "    }\n",
       "</style>\n",
       "<table border=\"1\" class=\"dataframe\">\n",
       "  <thead>\n",
       "    <tr style=\"text-align: right;\">\n",
       "      <th></th>\n",
       "      <th>count</th>\n",
       "    </tr>\n",
       "    <tr>\n",
       "      <th>GN</th>\n",
       "      <th></th>\n",
       "    </tr>\n",
       "  </thead>\n",
       "  <tbody>\n",
       "    <tr>\n",
       "      <th>mgts</th>\n",
       "      <td>1</td>\n",
       "    </tr>\n",
       "    <tr>\n",
       "      <th>rpnb</th>\n",
       "      <td>1</td>\n",
       "    </tr>\n",
       "    <tr>\n",
       "      <th>xdhc</th>\n",
       "      <td>1</td>\n",
       "    </tr>\n",
       "    <tr>\n",
       "      <th>yger</th>\n",
       "      <td>1</td>\n",
       "    </tr>\n",
       "    <tr>\n",
       "      <th>ynje</th>\n",
       "      <td>1</td>\n",
       "    </tr>\n",
       "  </tbody>\n",
       "</table>\n",
       "</div>"
      ],
      "text/plain": [
       "      count\n",
       "GN         \n",
       "mgts      1\n",
       "rpnb      1\n",
       "xdhc      1\n",
       "yger      1\n",
       "ynje      1"
      ]
     },
     "metadata": {},
     "output_type": "display_data"
    },
    {
     "data": {
      "text/plain": [
       "(4403, 1)"
      ]
     },
     "metadata": {},
     "output_type": "display_data"
    },
    {
     "data": {
      "text/html": [
       "<div>\n",
       "<style scoped>\n",
       "    .dataframe tbody tr th:only-of-type {\n",
       "        vertical-align: middle;\n",
       "    }\n",
       "\n",
       "    .dataframe tbody tr th {\n",
       "        vertical-align: top;\n",
       "    }\n",
       "\n",
       "    .dataframe thead th {\n",
       "        text-align: right;\n",
       "    }\n",
       "</style>\n",
       "<table border=\"1\" class=\"dataframe\">\n",
       "  <thead>\n",
       "    <tr style=\"text-align: right;\">\n",
       "      <th></th>\n",
       "      <th>count</th>\n",
       "    </tr>\n",
       "    <tr>\n",
       "      <th>GN</th>\n",
       "      <th></th>\n",
       "    </tr>\n",
       "  </thead>\n",
       "  <tbody>\n",
       "  </tbody>\n",
       "</table>\n",
       "</div>"
      ],
      "text/plain": [
       "Empty DataFrame\n",
       "Columns: [count]\n",
       "Index: []"
      ]
     },
     "metadata": {},
     "output_type": "display_data"
    }
   ],
   "source": [
    "# Count occurences in k12_proteome of each GN\n",
    "GN_count = k12_proteome['GN'].str.lower().value_counts().to_frame()\n",
    "\n",
    "display(GN_count.head())\n",
    "display(GN_count.shape)\n",
    "\n",
    "# Display when it is higher than 1\n",
    "display(GN_count[GN_count['count'] != 1])"
   ]
  },
  {
   "cell_type": "markdown",
   "metadata": {},
   "source": [
    "We can confirm that there are no duplicates among the k12 genes"
   ]
  },
  {
   "cell_type": "markdown",
   "metadata": {},
   "source": [
    "## 2. Match receptor and sequence\n",
    "Let's match each phage in the receptors dataframe with the sequence of the associated receptor, contained in k12_proteome.\\\n",
    "We expect that many entries from receptors could match to the same gene in k12_proteome, and not viceversa. \\\n",
    "We validate this using validate='many_to_one' during the merge, which would raise an error otherwise."
   ]
  },
  {
   "cell_type": "code",
   "execution_count": 8,
   "metadata": {},
   "outputs": [
    {
     "data": {
      "text/html": [
       "<div>\n",
       "<style scoped>\n",
       "    .dataframe tbody tr th:only-of-type {\n",
       "        vertical-align: middle;\n",
       "    }\n",
       "\n",
       "    .dataframe tbody tr th {\n",
       "        vertical-align: top;\n",
       "    }\n",
       "\n",
       "    .dataframe thead th {\n",
       "        text-align: right;\n",
       "    }\n",
       "</style>\n",
       "<table border=\"1\" class=\"dataframe\">\n",
       "  <thead>\n",
       "    <tr style=\"text-align: right;\">\n",
       "      <th></th>\n",
       "      <th>bas</th>\n",
       "      <th>genus</th>\n",
       "      <th>phage</th>\n",
       "      <th>morphotype</th>\n",
       "      <th>closest_relative</th>\n",
       "      <th>receptor_protein</th>\n",
       "      <th>seqID_k12</th>\n",
       "      <th>name</th>\n",
       "      <th>OS</th>\n",
       "      <th>OX</th>\n",
       "      <th>GN</th>\n",
       "      <th>PE</th>\n",
       "      <th>SV</th>\n",
       "      <th>sequence</th>\n",
       "    </tr>\n",
       "  </thead>\n",
       "  <tbody>\n",
       "    <tr>\n",
       "      <th>0</th>\n",
       "      <td>Bas01</td>\n",
       "      <td>Rtpvirus</td>\n",
       "      <td>Escherichia phage AugustePiccard</td>\n",
       "      <td>siphovirus</td>\n",
       "      <td>RTP (AM156909.1)</td>\n",
       "      <td>LptD</td>\n",
       "      <td>sp|P31554|LPTD_ECOLI</td>\n",
       "      <td>LPS-assembly protein LptD</td>\n",
       "      <td>Escherichia coli (strain K12)</td>\n",
       "      <td>83333</td>\n",
       "      <td>lptD</td>\n",
       "      <td>1</td>\n",
       "      <td>2</td>\n",
       "      <td>MKKRIPTLLATMIATALYSQQGLAADLASQCMLGVPSYDRPLVQGD...</td>\n",
       "    </tr>\n",
       "    <tr>\n",
       "      <th>1</th>\n",
       "      <td>Bas02</td>\n",
       "      <td>Guelphvirus</td>\n",
       "      <td>Escherichia phage JeanPiccard</td>\n",
       "      <td>siphovirus</td>\n",
       "      <td>CEB_EC3a (NC_047812.1)</td>\n",
       "      <td>LptD</td>\n",
       "      <td>sp|P31554|LPTD_ECOLI</td>\n",
       "      <td>LPS-assembly protein LptD</td>\n",
       "      <td>Escherichia coli (strain K12)</td>\n",
       "      <td>83333</td>\n",
       "      <td>lptD</td>\n",
       "      <td>1</td>\n",
       "      <td>2</td>\n",
       "      <td>MKKRIPTLLATMIATALYSQQGLAADLASQCMLGVPSYDRPLVQGD...</td>\n",
       "    </tr>\n",
       "    <tr>\n",
       "      <th>7</th>\n",
       "      <td>Bas03</td>\n",
       "      <td>Guelphvirus</td>\n",
       "      <td>Escherichia phage JulesPiccard</td>\n",
       "      <td>siphovirus</td>\n",
       "      <td>CEB_EC3a (NC_047812.1)</td>\n",
       "      <td>FhuA</td>\n",
       "      <td>sp|P06971|FHUA_ECOLI</td>\n",
       "      <td>Ferrichrome outer membrane transporter/phage r...</td>\n",
       "      <td>Escherichia coli (strain K12)</td>\n",
       "      <td>83333</td>\n",
       "      <td>fhuA</td>\n",
       "      <td>1</td>\n",
       "      <td>2</td>\n",
       "      <td>MARSKTAQPKHSLRKIAVVVATAVSGMSVYAQAAVEPKEDTITVTA...</td>\n",
       "    </tr>\n",
       "    <tr>\n",
       "      <th>17</th>\n",
       "      <td>Bas04</td>\n",
       "      <td>Warwickvirus</td>\n",
       "      <td>Escherichia phage FritzSarasin</td>\n",
       "      <td>siphovirus</td>\n",
       "      <td>tonnikala (NC_049817.1)</td>\n",
       "      <td>BtuB</td>\n",
       "      <td>sp|P06129|BTUB_ECOLI</td>\n",
       "      <td>Vitamin B12 transporter BtuB</td>\n",
       "      <td>Escherichia coli (strain K12)</td>\n",
       "      <td>83333</td>\n",
       "      <td>btuB</td>\n",
       "      <td>1</td>\n",
       "      <td>2</td>\n",
       "      <td>MIKKASLLTACSVTAFSAWAQDTSPDTLVVTANRFEQPRSTVLAPT...</td>\n",
       "    </tr>\n",
       "    <tr>\n",
       "      <th>8</th>\n",
       "      <td>Bas05</td>\n",
       "      <td>Warwickvirus</td>\n",
       "      <td>Escherichia phage PeterMerian</td>\n",
       "      <td>siphovirus</td>\n",
       "      <td>XY3 (MN781674.1)</td>\n",
       "      <td>FhuA</td>\n",
       "      <td>sp|P06971|FHUA_ECOLI</td>\n",
       "      <td>Ferrichrome outer membrane transporter/phage r...</td>\n",
       "      <td>Escherichia coli (strain K12)</td>\n",
       "      <td>83333</td>\n",
       "      <td>fhuA</td>\n",
       "      <td>1</td>\n",
       "      <td>2</td>\n",
       "      <td>MARSKTAQPKHSLRKIAVVVATAVSGMSVYAQAAVEPKEDTITVTA...</td>\n",
       "    </tr>\n",
       "  </tbody>\n",
       "</table>\n",
       "</div>"
      ],
      "text/plain": [
       "      bas         genus                             phage  morphotype  \\\n",
       "0   Bas01      Rtpvirus  Escherichia phage AugustePiccard  siphovirus   \n",
       "1   Bas02   Guelphvirus     Escherichia phage JeanPiccard  siphovirus   \n",
       "7   Bas03   Guelphvirus    Escherichia phage JulesPiccard  siphovirus   \n",
       "17  Bas04  Warwickvirus    Escherichia phage FritzSarasin  siphovirus   \n",
       "8   Bas05  Warwickvirus     Escherichia phage PeterMerian  siphovirus   \n",
       "\n",
       "           closest_relative receptor_protein             seqID_k12  \\\n",
       "0          RTP (AM156909.1)             LptD  sp|P31554|LPTD_ECOLI   \n",
       "1    CEB_EC3a (NC_047812.1)             LptD  sp|P31554|LPTD_ECOLI   \n",
       "7    CEB_EC3a (NC_047812.1)             FhuA  sp|P06971|FHUA_ECOLI   \n",
       "17  tonnikala (NC_049817.1)             BtuB  sp|P06129|BTUB_ECOLI   \n",
       "8          XY3 (MN781674.1)             FhuA  sp|P06971|FHUA_ECOLI   \n",
       "\n",
       "                                                 name  \\\n",
       "0                          LPS-assembly protein LptD    \n",
       "1                          LPS-assembly protein LptD    \n",
       "7   Ferrichrome outer membrane transporter/phage r...   \n",
       "17                      Vitamin B12 transporter BtuB    \n",
       "8   Ferrichrome outer membrane transporter/phage r...   \n",
       "\n",
       "                               OS     OX    GN PE SV  \\\n",
       "0   Escherichia coli (strain K12)  83333  lptD  1  2   \n",
       "1   Escherichia coli (strain K12)  83333  lptD  1  2   \n",
       "7   Escherichia coli (strain K12)  83333  fhuA  1  2   \n",
       "17  Escherichia coli (strain K12)  83333  btuB  1  2   \n",
       "8   Escherichia coli (strain K12)  83333  fhuA  1  2   \n",
       "\n",
       "                                             sequence  \n",
       "0   MKKRIPTLLATMIATALYSQQGLAADLASQCMLGVPSYDRPLVQGD...  \n",
       "1   MKKRIPTLLATMIATALYSQQGLAADLASQCMLGVPSYDRPLVQGD...  \n",
       "7   MARSKTAQPKHSLRKIAVVVATAVSGMSVYAQAAVEPKEDTITVTA...  \n",
       "17  MIKKASLLTACSVTAFSAWAQDTSPDTLVVTANRFEQPRSTVLAPT...  \n",
       "8   MARSKTAQPKHSLRKIAVVVATAVSGMSVYAQAAVEPKEDTITVTA...  "
      ]
     },
     "metadata": {},
     "output_type": "display_data"
    },
    {
     "data": {
      "text/plain": [
       "(50, 14)"
      ]
     },
     "metadata": {},
     "output_type": "display_data"
    }
   ],
   "source": [
    "# Add a lower case column of receptor_protein as common identifier between receptors and k12_proteome\n",
    "receptors['receptor_protein_lower'] = receptors['receptor_protein'].str.lower()\n",
    "k12_proteome['GN_lower'] = k12_proteome['GN'].str.lower()\n",
    "\n",
    "# Merge datasets\n",
    "receptors_k12 = receptors.merge(k12_proteome, how='inner', left_on='receptor_protein_lower', right_on='GN_lower', suffixes=('_phage', '_k12'), validate='many_to_one')\n",
    "\n",
    "# Drop GN_lower and receptor_protein_lower and order by bas\n",
    "receptors_k12.drop(columns=['GN_lower', 'receptor_protein_lower'], inplace=True)\n",
    "receptors_k12.sort_values(by=['bas'], inplace=True)\n",
    "\n",
    "display(receptors_k12.head())\n",
    "display(receptors_k12.shape)"
   ]
  },
  {
   "cell_type": "markdown",
   "metadata": {},
   "source": [
    "## 3. "
   ]
  },
  {
   "cell_type": "markdown",
   "metadata": {},
   "source": [
    "Next, we need to select from each Bas (from receptors), which of its proteins (from basel_proteome) is expected to interact with that kind of receptor. It might be a good idea to define a dictionary to do this. "
   ]
  },
  {
   "cell_type": "markdown",
   "metadata": {},
   "source": [
    "After selecting the involved protein(s) for each Bas, we'll have to link those proteins with the corresponding protein in the k12_proteome. This pairs will be labeled as interacting. All the others as non-interacting"
   ]
  }
 ],
 "metadata": {
  "kernelspec": {
   "display_name": "environment_1",
   "language": "python",
   "name": "python3"
  },
  "language_info": {
   "codemirror_mode": {
    "name": "ipython",
    "version": 3
   },
   "file_extension": ".py",
   "mimetype": "text/x-python",
   "name": "python",
   "nbconvert_exporter": "python",
   "pygments_lexer": "ipython3",
   "version": "3.11.5"
  },
  "orig_nbformat": 4
 },
 "nbformat": 4,
 "nbformat_minor": 2
}
