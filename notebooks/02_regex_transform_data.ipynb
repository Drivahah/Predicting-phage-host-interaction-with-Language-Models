{
 "cells": [
  {
   "cell_type": "markdown",
   "metadata": {},
   "source": [
    "# 2_Transform_data"
   ]
  },
  {
   "cell_type": "markdown",
   "metadata": {},
   "source": [
    "### Import libraries"
   ]
  },
  {
   "cell_type": "code",
   "execution_count": 1,
   "metadata": {},
   "outputs": [],
   "source": [
    "import pandas as pd\n",
    "import numpy as np\n",
    "import matplotlib.pyplot as plt\n",
    "import os\n",
    "\n",
    "# Import user defined libraries\n",
    "import sys\n",
    "sys.path.append(\"../src\")\n",
    "from functions import PhaNNS_thresholds, phageRBP_thresholds, NN_thresholds, random_concatenation"
   ]
  },
  {
   "cell_type": "markdown",
   "metadata": {},
   "source": [
    "## 1. Load clean data"
   ]
  },
  {
   "cell_type": "code",
   "execution_count": 2,
   "metadata": {},
   "outputs": [],
   "source": [
    "CLEAN_PATH = os.path.join('..', 'data', 'interim', 'clean')\n",
    "\n",
    "if not os.path.exists(CLEAN_PATH):\n",
    "    raise Exception('Clean data path does not exist. Did you run the notebook 01_clean_data.ipynb?')\n",
    "\n",
    "# Import pickle clean data\n",
    "receptors = pd.read_pickle(os.path.join(CLEAN_PATH, '1_receptors.pkl'))\n",
    "protein_NN = pd.read_pickle(os.path.join(CLEAN_PATH, '1_proteins.pkl'))\n",
    "basel_proteome = pd.read_pickle(os.path.join(CLEAN_PATH, '1_basel_proteome.pkl'))\n",
    "k12_proteome = pd.read_pickle(os.path.join(CLEAN_PATH, '1_k12_proteome.pkl'))\n"
   ]
  },
  {
   "cell_type": "code",
   "execution_count": 3,
   "metadata": {},
   "outputs": [
    {
     "name": "stdout",
     "output_type": "stream",
     "text": [
      "Receptors:\n"
     ]
    },
    {
     "data": {
      "text/html": [
       "<div>\n",
       "<style scoped>\n",
       "    .dataframe tbody tr th:only-of-type {\n",
       "        vertical-align: middle;\n",
       "    }\n",
       "\n",
       "    .dataframe tbody tr th {\n",
       "        vertical-align: top;\n",
       "    }\n",
       "\n",
       "    .dataframe thead th {\n",
       "        text-align: right;\n",
       "    }\n",
       "</style>\n",
       "<table border=\"1\" class=\"dataframe\">\n",
       "  <thead>\n",
       "    <tr style=\"text-align: right;\">\n",
       "      <th></th>\n",
       "      <th>bas</th>\n",
       "      <th>genus</th>\n",
       "      <th>phage</th>\n",
       "      <th>morphotype</th>\n",
       "      <th>closest_relative</th>\n",
       "      <th>primary_receptor</th>\n",
       "      <th>terminal_receptor</th>\n",
       "      <th>receptor</th>\n",
       "    </tr>\n",
       "  </thead>\n",
       "  <tbody>\n",
       "    <tr>\n",
       "      <th>0</th>\n",
       "      <td>Bas01</td>\n",
       "      <td>Rtpvirus</td>\n",
       "      <td>Escherichia phage AugustePiccard</td>\n",
       "      <td>siphovirus</td>\n",
       "      <td>RTP (AM156909.1)</td>\n",
       "      <td>LPS / O-antigen?</td>\n",
       "      <td>LptD</td>\n",
       "      <td>n.a.</td>\n",
       "    </tr>\n",
       "    <tr>\n",
       "      <th>1</th>\n",
       "      <td>Bas02</td>\n",
       "      <td>Guelphvirus</td>\n",
       "      <td>Escherichia phage JeanPiccard</td>\n",
       "      <td>siphovirus</td>\n",
       "      <td>CEB_EC3a (NC_047812.1)</td>\n",
       "      <td>LPS / O-antigen?</td>\n",
       "      <td>LptD</td>\n",
       "      <td>n.a.</td>\n",
       "    </tr>\n",
       "    <tr>\n",
       "      <th>2</th>\n",
       "      <td>Bas03</td>\n",
       "      <td>Guelphvirus</td>\n",
       "      <td>Escherichia phage JulesPiccard</td>\n",
       "      <td>siphovirus</td>\n",
       "      <td>CEB_EC3a (NC_047812.1)</td>\n",
       "      <td>LPS / O-antigen?</td>\n",
       "      <td>FhuA</td>\n",
       "      <td>n.a.</td>\n",
       "    </tr>\n",
       "    <tr>\n",
       "      <th>3</th>\n",
       "      <td>Bas04</td>\n",
       "      <td>Warwickvirus</td>\n",
       "      <td>Escherichia phage FritzSarasin</td>\n",
       "      <td>siphovirus</td>\n",
       "      <td>tonnikala (NC_049817.1)</td>\n",
       "      <td>LPS / O-antigen?</td>\n",
       "      <td>BtuB</td>\n",
       "      <td>n.a.</td>\n",
       "    </tr>\n",
       "    <tr>\n",
       "      <th>4</th>\n",
       "      <td>Bas05</td>\n",
       "      <td>Warwickvirus</td>\n",
       "      <td>Escherichia phage PeterMerian</td>\n",
       "      <td>siphovirus</td>\n",
       "      <td>XY3 (MN781674.1)</td>\n",
       "      <td>LPS / O-antigen?</td>\n",
       "      <td>FhuA</td>\n",
       "      <td>n.a.</td>\n",
       "    </tr>\n",
       "  </tbody>\n",
       "</table>\n",
       "</div>"
      ],
      "text/plain": [
       "     bas         genus                             phage  morphotype  \\\n",
       "0  Bas01      Rtpvirus  Escherichia phage AugustePiccard  siphovirus   \n",
       "1  Bas02   Guelphvirus     Escherichia phage JeanPiccard  siphovirus   \n",
       "2  Bas03   Guelphvirus    Escherichia phage JulesPiccard  siphovirus   \n",
       "3  Bas04  Warwickvirus    Escherichia phage FritzSarasin  siphovirus   \n",
       "4  Bas05  Warwickvirus     Escherichia phage PeterMerian  siphovirus   \n",
       "\n",
       "          closest_relative  primary_receptor terminal_receptor receptor  \n",
       "0         RTP (AM156909.1)  LPS / O-antigen?              LptD     n.a.  \n",
       "1   CEB_EC3a (NC_047812.1)  LPS / O-antigen?              LptD     n.a.  \n",
       "2   CEB_EC3a (NC_047812.1)  LPS / O-antigen?              FhuA     n.a.  \n",
       "3  tonnikala (NC_049817.1)  LPS / O-antigen?              BtuB     n.a.  \n",
       "4         XY3 (MN781674.1)  LPS / O-antigen?              FhuA     n.a.  "
      ]
     },
     "metadata": {},
     "output_type": "display_data"
    },
    {
     "name": "stdout",
     "output_type": "stream",
     "text": [
      "Protein NN:\n"
     ]
    },
    {
     "data": {
      "text/html": [
       "<div>\n",
       "<style scoped>\n",
       "    .dataframe tbody tr th:only-of-type {\n",
       "        vertical-align: middle;\n",
       "    }\n",
       "\n",
       "    .dataframe tbody tr th {\n",
       "        vertical-align: top;\n",
       "    }\n",
       "\n",
       "    .dataframe thead th {\n",
       "        text-align: right;\n",
       "    }\n",
       "</style>\n",
       "<table border=\"1\" class=\"dataframe\">\n",
       "  <thead>\n",
       "    <tr style=\"text-align: right;\">\n",
       "      <th></th>\n",
       "      <th>seqID</th>\n",
       "      <th>major_capsid</th>\n",
       "      <th>minor_capsid</th>\n",
       "      <th>baseplate</th>\n",
       "      <th>major_tail</th>\n",
       "      <th>minor_tail</th>\n",
       "      <th>portal</th>\n",
       "      <th>tail_fiber</th>\n",
       "      <th>tail_shaft</th>\n",
       "      <th>collar</th>\n",
       "      <th>HTJ</th>\n",
       "      <th>other</th>\n",
       "      <th>confidence</th>\n",
       "      <th>PhageRBPdetect_prediction</th>\n",
       "      <th>PhageRBPdetect_score</th>\n",
       "      <th>ESM_based_label</th>\n",
       "      <th>ESM_based_fiber_prediction</th>\n",
       "    </tr>\n",
       "  </thead>\n",
       "  <tbody>\n",
       "    <tr>\n",
       "      <th>0</th>\n",
       "      <td>lcl|MZ501051.1_prot_QXV76132.1_1</td>\n",
       "      <td>0.22</td>\n",
       "      <td>0.84</td>\n",
       "      <td>0.18</td>\n",
       "      <td>0.21</td>\n",
       "      <td>0.34</td>\n",
       "      <td>0.85</td>\n",
       "      <td>0.49</td>\n",
       "      <td>0.24</td>\n",
       "      <td>0.46</td>\n",
       "      <td>0.38</td>\n",
       "      <td>5.79</td>\n",
       "      <td>0.98</td>\n",
       "      <td>0</td>\n",
       "      <td>2.403247e-05</td>\n",
       "      <td>other</td>\n",
       "      <td>0</td>\n",
       "    </tr>\n",
       "    <tr>\n",
       "      <th>1</th>\n",
       "      <td>lcl|MZ501051.1_prot_QXV76133.1_2</td>\n",
       "      <td>0.00</td>\n",
       "      <td>0.00</td>\n",
       "      <td>0.00</td>\n",
       "      <td>0.00</td>\n",
       "      <td>0.00</td>\n",
       "      <td>0.00</td>\n",
       "      <td>0.00</td>\n",
       "      <td>0.00</td>\n",
       "      <td>0.00</td>\n",
       "      <td>0.00</td>\n",
       "      <td>10.00</td>\n",
       "      <td>1.00</td>\n",
       "      <td>0</td>\n",
       "      <td>3.570606e-08</td>\n",
       "      <td>other</td>\n",
       "      <td>0</td>\n",
       "    </tr>\n",
       "    <tr>\n",
       "      <th>2</th>\n",
       "      <td>lcl|MZ501051.1_prot_QXV76134.1_3</td>\n",
       "      <td>0.35</td>\n",
       "      <td>1.01</td>\n",
       "      <td>0.71</td>\n",
       "      <td>0.26</td>\n",
       "      <td>1.30</td>\n",
       "      <td>0.97</td>\n",
       "      <td>0.68</td>\n",
       "      <td>0.25</td>\n",
       "      <td>0.24</td>\n",
       "      <td>0.73</td>\n",
       "      <td>3.51</td>\n",
       "      <td>0.97</td>\n",
       "      <td>0</td>\n",
       "      <td>1.817806e-06</td>\n",
       "      <td>other</td>\n",
       "      <td>0</td>\n",
       "    </tr>\n",
       "    <tr>\n",
       "      <th>3</th>\n",
       "      <td>lcl|MZ501051.1_prot_QXV76135.1_4</td>\n",
       "      <td>0.01</td>\n",
       "      <td>0.23</td>\n",
       "      <td>0.02</td>\n",
       "      <td>0.01</td>\n",
       "      <td>0.03</td>\n",
       "      <td>0.10</td>\n",
       "      <td>0.09</td>\n",
       "      <td>0.01</td>\n",
       "      <td>0.16</td>\n",
       "      <td>0.03</td>\n",
       "      <td>9.32</td>\n",
       "      <td>1.00</td>\n",
       "      <td>0</td>\n",
       "      <td>1.184212e-05</td>\n",
       "      <td>other</td>\n",
       "      <td>0</td>\n",
       "    </tr>\n",
       "    <tr>\n",
       "      <th>4</th>\n",
       "      <td>lcl|MZ501051.1_prot_QXV76136.1_5</td>\n",
       "      <td>0.05</td>\n",
       "      <td>0.07</td>\n",
       "      <td>0.06</td>\n",
       "      <td>0.05</td>\n",
       "      <td>0.13</td>\n",
       "      <td>0.09</td>\n",
       "      <td>0.03</td>\n",
       "      <td>0.07</td>\n",
       "      <td>0.08</td>\n",
       "      <td>0.07</td>\n",
       "      <td>9.28</td>\n",
       "      <td>1.00</td>\n",
       "      <td>0</td>\n",
       "      <td>8.151848e-05</td>\n",
       "      <td>other</td>\n",
       "      <td>0</td>\n",
       "    </tr>\n",
       "  </tbody>\n",
       "</table>\n",
       "</div>"
      ],
      "text/plain": [
       "                              seqID  major_capsid  minor_capsid  baseplate  \\\n",
       "0  lcl|MZ501051.1_prot_QXV76132.1_1          0.22          0.84       0.18   \n",
       "1  lcl|MZ501051.1_prot_QXV76133.1_2          0.00          0.00       0.00   \n",
       "2  lcl|MZ501051.1_prot_QXV76134.1_3          0.35          1.01       0.71   \n",
       "3  lcl|MZ501051.1_prot_QXV76135.1_4          0.01          0.23       0.02   \n",
       "4  lcl|MZ501051.1_prot_QXV76136.1_5          0.05          0.07       0.06   \n",
       "\n",
       "   major_tail  minor_tail  portal  tail_fiber  tail_shaft  collar   HTJ  \\\n",
       "0        0.21        0.34    0.85        0.49        0.24    0.46  0.38   \n",
       "1        0.00        0.00    0.00        0.00        0.00    0.00  0.00   \n",
       "2        0.26        1.30    0.97        0.68        0.25    0.24  0.73   \n",
       "3        0.01        0.03    0.10        0.09        0.01    0.16  0.03   \n",
       "4        0.05        0.13    0.09        0.03        0.07    0.08  0.07   \n",
       "\n",
       "   other  confidence  PhageRBPdetect_prediction  PhageRBPdetect_score  \\\n",
       "0   5.79        0.98                          0          2.403247e-05   \n",
       "1  10.00        1.00                          0          3.570606e-08   \n",
       "2   3.51        0.97                          0          1.817806e-06   \n",
       "3   9.32        1.00                          0          1.184212e-05   \n",
       "4   9.28        1.00                          0          8.151848e-05   \n",
       "\n",
       "  ESM_based_label  ESM_based_fiber_prediction  \n",
       "0           other                           0  \n",
       "1           other                           0  \n",
       "2           other                           0  \n",
       "3           other                           0  \n",
       "4           other                           0  "
      ]
     },
     "metadata": {},
     "output_type": "display_data"
    },
    {
     "name": "stdout",
     "output_type": "stream",
     "text": [
      "Basel proteome:\n"
     ]
    },
    {
     "data": {
      "text/html": [
       "<div>\n",
       "<style scoped>\n",
       "    .dataframe tbody tr th:only-of-type {\n",
       "        vertical-align: middle;\n",
       "    }\n",
       "\n",
       "    .dataframe tbody tr th {\n",
       "        vertical-align: top;\n",
       "    }\n",
       "\n",
       "    .dataframe thead th {\n",
       "        text-align: right;\n",
       "    }\n",
       "</style>\n",
       "<table border=\"1\" class=\"dataframe\">\n",
       "  <thead>\n",
       "    <tr style=\"text-align: right;\">\n",
       "      <th></th>\n",
       "      <th>seqID_phage</th>\n",
       "      <th>locus_tag</th>\n",
       "      <th>protein</th>\n",
       "      <th>protein_id</th>\n",
       "      <th>location</th>\n",
       "      <th>gbkey</th>\n",
       "      <th>sequence</th>\n",
       "      <th>gene</th>\n",
       "      <th>db_xref</th>\n",
       "      <th>frame</th>\n",
       "      <th>partial</th>\n",
       "      <th>exception</th>\n",
       "      <th>bas</th>\n",
       "    </tr>\n",
       "  </thead>\n",
       "  <tbody>\n",
       "    <tr>\n",
       "      <th>0</th>\n",
       "      <td>lcl|MZ501051.1_prot_QXV76132.1_1</td>\n",
       "      <td>bas01_0001</td>\n",
       "      <td>terminase small subunit</td>\n",
       "      <td>QXV76132.1</td>\n",
       "      <td>1..507</td>\n",
       "      <td>CDS</td>\n",
       "      <td>MSKAALKMGEGNFKALYNKKYGDIAMVAINRKYTPEEVFDFAVRYF...</td>\n",
       "      <td>NaN</td>\n",
       "      <td>NaN</td>\n",
       "      <td>NaN</td>\n",
       "      <td>NaN</td>\n",
       "      <td>NaN</td>\n",
       "      <td>Bas01</td>\n",
       "    </tr>\n",
       "    <tr>\n",
       "      <th>1</th>\n",
       "      <td>lcl|MZ501051.1_prot_QXV76133.1_2</td>\n",
       "      <td>bas01_0002</td>\n",
       "      <td>hypothetical protein</td>\n",
       "      <td>QXV76133.1</td>\n",
       "      <td>526..621</td>\n",
       "      <td>CDS</td>\n",
       "      <td>MKGFIKLFIWYYLLTSISLCVFMLVVKLWLI</td>\n",
       "      <td>NaN</td>\n",
       "      <td>NaN</td>\n",
       "      <td>NaN</td>\n",
       "      <td>NaN</td>\n",
       "      <td>NaN</td>\n",
       "      <td>Bas01</td>\n",
       "    </tr>\n",
       "    <tr>\n",
       "      <th>2</th>\n",
       "      <td>lcl|MZ501051.1_prot_QXV76134.1_3</td>\n",
       "      <td>bas01_0003</td>\n",
       "      <td>terminase large subunit</td>\n",
       "      <td>QXV76134.1</td>\n",
       "      <td>609..2177</td>\n",
       "      <td>CDS</td>\n",
       "      <td>MANLIWEEMTSQEKLAVKAISEHSFEGFLRCWFSITQGERYIPNWH...</td>\n",
       "      <td>NaN</td>\n",
       "      <td>NaN</td>\n",
       "      <td>NaN</td>\n",
       "      <td>NaN</td>\n",
       "      <td>NaN</td>\n",
       "      <td>Bas01</td>\n",
       "    </tr>\n",
       "    <tr>\n",
       "      <th>3</th>\n",
       "      <td>lcl|MZ501051.1_prot_QXV76135.1_4</td>\n",
       "      <td>bas01_0004</td>\n",
       "      <td>putative homing endonuclease</td>\n",
       "      <td>QXV76135.1</td>\n",
       "      <td>2321..2716</td>\n",
       "      <td>CDS</td>\n",
       "      <td>MVAGSLSGNGYLHIRIGDRRVKNHLIIWEMHNGRIPEGMEIDHINH...</td>\n",
       "      <td>NaN</td>\n",
       "      <td>NaN</td>\n",
       "      <td>NaN</td>\n",
       "      <td>NaN</td>\n",
       "      <td>NaN</td>\n",
       "      <td>Bas01</td>\n",
       "    </tr>\n",
       "    <tr>\n",
       "      <th>4</th>\n",
       "      <td>lcl|MZ501051.1_prot_QXV76136.1_5</td>\n",
       "      <td>bas01_0005</td>\n",
       "      <td>hypothetical protein</td>\n",
       "      <td>QXV76136.1</td>\n",
       "      <td>2788..3168</td>\n",
       "      <td>CDS</td>\n",
       "      <td>MTKKSKAVYLGNTEGEYYGFTVGNEYDVHNYETEDNFIGTFGDDGG...</td>\n",
       "      <td>NaN</td>\n",
       "      <td>NaN</td>\n",
       "      <td>NaN</td>\n",
       "      <td>NaN</td>\n",
       "      <td>NaN</td>\n",
       "      <td>Bas01</td>\n",
       "    </tr>\n",
       "  </tbody>\n",
       "</table>\n",
       "</div>"
      ],
      "text/plain": [
       "                        seqID_phage   locus_tag                       protein  \\\n",
       "0  lcl|MZ501051.1_prot_QXV76132.1_1  bas01_0001       terminase small subunit   \n",
       "1  lcl|MZ501051.1_prot_QXV76133.1_2  bas01_0002          hypothetical protein   \n",
       "2  lcl|MZ501051.1_prot_QXV76134.1_3  bas01_0003       terminase large subunit   \n",
       "3  lcl|MZ501051.1_prot_QXV76135.1_4  bas01_0004  putative homing endonuclease   \n",
       "4  lcl|MZ501051.1_prot_QXV76136.1_5  bas01_0005          hypothetical protein   \n",
       "\n",
       "   protein_id    location gbkey  \\\n",
       "0  QXV76132.1      1..507   CDS   \n",
       "1  QXV76133.1    526..621   CDS   \n",
       "2  QXV76134.1   609..2177   CDS   \n",
       "3  QXV76135.1  2321..2716   CDS   \n",
       "4  QXV76136.1  2788..3168   CDS   \n",
       "\n",
       "                                            sequence gene db_xref frame  \\\n",
       "0  MSKAALKMGEGNFKALYNKKYGDIAMVAINRKYTPEEVFDFAVRYF...  NaN     NaN   NaN   \n",
       "1                    MKGFIKLFIWYYLLTSISLCVFMLVVKLWLI  NaN     NaN   NaN   \n",
       "2  MANLIWEEMTSQEKLAVKAISEHSFEGFLRCWFSITQGERYIPNWH...  NaN     NaN   NaN   \n",
       "3  MVAGSLSGNGYLHIRIGDRRVKNHLIIWEMHNGRIPEGMEIDHINH...  NaN     NaN   NaN   \n",
       "4  MTKKSKAVYLGNTEGEYYGFTVGNEYDVHNYETEDNFIGTFGDDGG...  NaN     NaN   NaN   \n",
       "\n",
       "  partial exception    bas  \n",
       "0     NaN       NaN  Bas01  \n",
       "1     NaN       NaN  Bas01  \n",
       "2     NaN       NaN  Bas01  \n",
       "3     NaN       NaN  Bas01  \n",
       "4     NaN       NaN  Bas01  "
      ]
     },
     "metadata": {},
     "output_type": "display_data"
    },
    {
     "name": "stdout",
     "output_type": "stream",
     "text": [
      "K12 proteome:\n"
     ]
    },
    {
     "data": {
      "text/html": [
       "<div>\n",
       "<style scoped>\n",
       "    .dataframe tbody tr th:only-of-type {\n",
       "        vertical-align: middle;\n",
       "    }\n",
       "\n",
       "    .dataframe tbody tr th {\n",
       "        vertical-align: top;\n",
       "    }\n",
       "\n",
       "    .dataframe thead th {\n",
       "        text-align: right;\n",
       "    }\n",
       "</style>\n",
       "<table border=\"1\" class=\"dataframe\">\n",
       "  <thead>\n",
       "    <tr style=\"text-align: right;\">\n",
       "      <th></th>\n",
       "      <th>seqID_k12</th>\n",
       "      <th>name</th>\n",
       "      <th>OS</th>\n",
       "      <th>OX</th>\n",
       "      <th>GN</th>\n",
       "      <th>PE</th>\n",
       "      <th>SV</th>\n",
       "      <th>sequence</th>\n",
       "    </tr>\n",
       "  </thead>\n",
       "  <tbody>\n",
       "    <tr>\n",
       "      <th>0</th>\n",
       "      <td>sp|A5A616|MGTS_ECOLI</td>\n",
       "      <td>Small protein MgtS</td>\n",
       "      <td>Escherichia coli (strain K12)</td>\n",
       "      <td>83333</td>\n",
       "      <td>mgtS</td>\n",
       "      <td>1</td>\n",
       "      <td>1</td>\n",
       "      <td>MLGNMNVFMAVLGIILFSGFLAAYFSHKWDD</td>\n",
       "    </tr>\n",
       "    <tr>\n",
       "      <th>1</th>\n",
       "      <td>sp|O32583|THIS_ECOLI</td>\n",
       "      <td>Sulfur carrier protein ThiS</td>\n",
       "      <td>Escherichia coli (strain K12)</td>\n",
       "      <td>83333</td>\n",
       "      <td>thiS</td>\n",
       "      <td>1</td>\n",
       "      <td>1</td>\n",
       "      <td>MQILFNDQAMQCAAGQTVHELLEQLDQRQAGAALAINQQIVPREQW...</td>\n",
       "    </tr>\n",
       "    <tr>\n",
       "      <th>2</th>\n",
       "      <td>sp|P00350|6PGD_ECOLI</td>\n",
       "      <td>6-phosphogluconate dehydrogenase, decarboxylat...</td>\n",
       "      <td>Escherichia coli (strain K12)</td>\n",
       "      <td>83333</td>\n",
       "      <td>gnd</td>\n",
       "      <td>1</td>\n",
       "      <td>2</td>\n",
       "      <td>MSKQQIGVVGMAVMGRNLALNIESRGYTVSIFNRSREKTEEVIAEN...</td>\n",
       "    </tr>\n",
       "    <tr>\n",
       "      <th>3</th>\n",
       "      <td>sp|P00363|FRDA_ECOLI</td>\n",
       "      <td>Fumarate reductase flavoprotein subunit</td>\n",
       "      <td>Escherichia coli (strain K12)</td>\n",
       "      <td>83333</td>\n",
       "      <td>frdA</td>\n",
       "      <td>1</td>\n",
       "      <td>3</td>\n",
       "      <td>MQTFQADLAIVGAGGAGLRAAIAAAQANPNAKIALISKVYPMRSHT...</td>\n",
       "    </tr>\n",
       "    <tr>\n",
       "      <th>4</th>\n",
       "      <td>sp|P00370|DHE4_ECOLI</td>\n",
       "      <td>NADP-specific glutamate dehydrogenase</td>\n",
       "      <td>Escherichia coli (strain K12)</td>\n",
       "      <td>83333</td>\n",
       "      <td>gdhA</td>\n",
       "      <td>1</td>\n",
       "      <td>1</td>\n",
       "      <td>MDQTYSLESFLNHVQKRDPNQTEFAQAVREVMTTLWPFLEQNPKYR...</td>\n",
       "    </tr>\n",
       "  </tbody>\n",
       "</table>\n",
       "</div>"
      ],
      "text/plain": [
       "              seqID_k12                                               name  \\\n",
       "0  sp|A5A616|MGTS_ECOLI                                Small protein MgtS    \n",
       "1  sp|O32583|THIS_ECOLI                       Sulfur carrier protein ThiS    \n",
       "2  sp|P00350|6PGD_ECOLI  6-phosphogluconate dehydrogenase, decarboxylat...   \n",
       "3  sp|P00363|FRDA_ECOLI           Fumarate reductase flavoprotein subunit    \n",
       "4  sp|P00370|DHE4_ECOLI             NADP-specific glutamate dehydrogenase    \n",
       "\n",
       "                              OS     OX    GN PE SV  \\\n",
       "0  Escherichia coli (strain K12)  83333  mgtS  1  1   \n",
       "1  Escherichia coli (strain K12)  83333  thiS  1  1   \n",
       "2  Escherichia coli (strain K12)  83333   gnd  1  2   \n",
       "3  Escherichia coli (strain K12)  83333  frdA  1  3   \n",
       "4  Escherichia coli (strain K12)  83333  gdhA  1  1   \n",
       "\n",
       "                                            sequence  \n",
       "0                    MLGNMNVFMAVLGIILFSGFLAAYFSHKWDD  \n",
       "1  MQILFNDQAMQCAAGQTVHELLEQLDQRQAGAALAINQQIVPREQW...  \n",
       "2  MSKQQIGVVGMAVMGRNLALNIESRGYTVSIFNRSREKTEEVIAEN...  \n",
       "3  MQTFQADLAIVGAGGAGLRAAIAAAQANPNAKIALISKVYPMRSHT...  \n",
       "4  MDQTYSLESFLNHVQKRDPNQTEFAQAVREVMTTLWPFLEQNPKYR...  "
      ]
     },
     "metadata": {},
     "output_type": "display_data"
    }
   ],
   "source": [
    "# Display all dataframes\n",
    "print('Receptors:')\n",
    "display(receptors.head())\n",
    "print('Protein NN:')\n",
    "display(protein_NN.head())\n",
    "print('Basel proteome:')\n",
    "display(basel_proteome.head())\n",
    "print('K12 proteome:')\n",
    "display(k12_proteome.head())"
   ]
  },
  {
   "cell_type": "markdown",
   "metadata": {},
   "source": [
    "## 2. Keep only important columns and rename"
   ]
  },
  {
   "cell_type": "markdown",
   "metadata": {},
   "source": [
    "### 2.1 Protein receptors\n",
    "Some of basel receptors are terminal (aka secondary) and some are primary. In both columns there are both LPS and proteins. We only care about proteins, so it might be a good idea to add a column 'receptor_protein' which selects the proteic one from the two. Also, the 'receptor' column has no proteins, so it might be useless for further analysis. \\\n",
    "We will keep only the values which find a match in the k12 gene set.\\\n",
    "NB: some values have a question mark. Since we are aiming fro an as-strict-as-possible labelling, these values are not included"
   ]
  },
  {
   "cell_type": "code",
   "execution_count": 4,
   "metadata": {},
   "outputs": [],
   "source": [
    "# Get a set of the elements in a df\n",
    "GN_set = set(k12_proteome['GN'].str.lower().tolist())\n",
    "\n",
    "# Create a subset that contains only the rows where either primary_receptor or terminal_receptor are in GN_set\n",
    "receptors = receptors[(receptors['primary_receptor'].str.lower().isin(GN_set)) | (receptors['terminal_receptor'].str.lower().isin(GN_set))]\n",
    "receptors['receptor_protein'] = np.where(receptors['primary_receptor'].str.lower().isin(GN_set), receptors['primary_receptor'], \n",
    "                                      np.where(receptors['terminal_receptor'].str.lower().isin(GN_set), receptors['terminal_receptor'], np.nan))\n",
    "\n",
    "# keep only useful columns\n",
    "keep_columns = ['bas', 'phage', 'receptor_protein']\n",
    "receptors = receptors[keep_columns]"
   ]
  },
  {
   "cell_type": "code",
   "execution_count": 5,
   "metadata": {},
   "outputs": [
    {
     "data": {
      "text/html": [
       "<div>\n",
       "<style scoped>\n",
       "    .dataframe tbody tr th:only-of-type {\n",
       "        vertical-align: middle;\n",
       "    }\n",
       "\n",
       "    .dataframe tbody tr th {\n",
       "        vertical-align: top;\n",
       "    }\n",
       "\n",
       "    .dataframe thead th {\n",
       "        text-align: right;\n",
       "    }\n",
       "</style>\n",
       "<table border=\"1\" class=\"dataframe\">\n",
       "  <thead>\n",
       "    <tr style=\"text-align: right;\">\n",
       "      <th></th>\n",
       "      <th>bas</th>\n",
       "      <th>phage</th>\n",
       "      <th>receptor_protein</th>\n",
       "    </tr>\n",
       "  </thead>\n",
       "  <tbody>\n",
       "    <tr>\n",
       "      <th>0</th>\n",
       "      <td>Bas01</td>\n",
       "      <td>Escherichia phage AugustePiccard</td>\n",
       "      <td>LptD</td>\n",
       "    </tr>\n",
       "    <tr>\n",
       "      <th>1</th>\n",
       "      <td>Bas02</td>\n",
       "      <td>Escherichia phage JeanPiccard</td>\n",
       "      <td>LptD</td>\n",
       "    </tr>\n",
       "  </tbody>\n",
       "</table>\n",
       "</div>"
      ],
      "text/plain": [
       "     bas                             phage receptor_protein\n",
       "0  Bas01  Escherichia phage AugustePiccard             LptD\n",
       "1  Bas02     Escherichia phage JeanPiccard             LptD"
      ]
     },
     "metadata": {},
     "output_type": "display_data"
    },
    {
     "data": {
      "text/plain": [
       "(50, 3)"
      ]
     },
     "metadata": {},
     "output_type": "display_data"
    }
   ],
   "source": [
    "display(receptors.head(2))\n",
    "display(receptors.shape)"
   ]
  },
  {
   "cell_type": "markdown",
   "metadata": {},
   "source": [
    "The number of samples was reduced from 78 to 50"
   ]
  },
  {
   "cell_type": "markdown",
   "metadata": {},
   "source": [
    "### 2.2 Protein NN\n",
    "Of the PhaNN classification we will only care about tail_fiber and the confidence score. The rest can be dropped. \\\n",
    "Also, we care only about the binary classification of the ESM-based model"
   ]
  },
  {
   "cell_type": "code",
   "execution_count": 6,
   "metadata": {},
   "outputs": [],
   "source": [
    "# Rename seqID to seqID_phage\n",
    "protein_NN = protein_NN.rename(columns={'seqID': 'seqID_phage'})\n",
    "\n",
    "# Keep only useful columns\n",
    "keep_columns = ['seqID_phage', 'tail_fiber', 'confidence', 'PhageRBPdetect_prediction', 'PhageRBPdetect_score', 'ESM_based_fiber_prediction']\n",
    "protein_NN = protein_NN[keep_columns]"
   ]
  },
  {
   "cell_type": "code",
   "execution_count": 7,
   "metadata": {},
   "outputs": [
    {
     "data": {
      "text/html": [
       "<div>\n",
       "<style scoped>\n",
       "    .dataframe tbody tr th:only-of-type {\n",
       "        vertical-align: middle;\n",
       "    }\n",
       "\n",
       "    .dataframe tbody tr th {\n",
       "        vertical-align: top;\n",
       "    }\n",
       "\n",
       "    .dataframe thead th {\n",
       "        text-align: right;\n",
       "    }\n",
       "</style>\n",
       "<table border=\"1\" class=\"dataframe\">\n",
       "  <thead>\n",
       "    <tr style=\"text-align: right;\">\n",
       "      <th></th>\n",
       "      <th>seqID_phage</th>\n",
       "      <th>tail_fiber</th>\n",
       "      <th>confidence</th>\n",
       "      <th>PhageRBPdetect_prediction</th>\n",
       "      <th>PhageRBPdetect_score</th>\n",
       "      <th>ESM_based_fiber_prediction</th>\n",
       "    </tr>\n",
       "  </thead>\n",
       "  <tbody>\n",
       "    <tr>\n",
       "      <th>0</th>\n",
       "      <td>lcl|MZ501051.1_prot_QXV76132.1_1</td>\n",
       "      <td>0.49</td>\n",
       "      <td>0.98</td>\n",
       "      <td>0</td>\n",
       "      <td>2.403247e-05</td>\n",
       "      <td>0</td>\n",
       "    </tr>\n",
       "    <tr>\n",
       "      <th>1</th>\n",
       "      <td>lcl|MZ501051.1_prot_QXV76133.1_2</td>\n",
       "      <td>0.00</td>\n",
       "      <td>1.00</td>\n",
       "      <td>0</td>\n",
       "      <td>3.570606e-08</td>\n",
       "      <td>0</td>\n",
       "    </tr>\n",
       "  </tbody>\n",
       "</table>\n",
       "</div>"
      ],
      "text/plain": [
       "                        seqID_phage  tail_fiber  confidence  \\\n",
       "0  lcl|MZ501051.1_prot_QXV76132.1_1        0.49        0.98   \n",
       "1  lcl|MZ501051.1_prot_QXV76133.1_2        0.00        1.00   \n",
       "\n",
       "   PhageRBPdetect_prediction  PhageRBPdetect_score  ESM_based_fiber_prediction  \n",
       "0                          0          2.403247e-05                           0  \n",
       "1                          0          3.570606e-08                           0  "
      ]
     },
     "metadata": {},
     "output_type": "display_data"
    },
    {
     "data": {
      "text/plain": [
       "(35416, 6)"
      ]
     },
     "metadata": {},
     "output_type": "display_data"
    }
   ],
   "source": [
    "display(protein_NN.head(2))\n",
    "display(protein_NN.shape)"
   ]
  },
  {
   "cell_type": "markdown",
   "metadata": {},
   "source": [
    "### 2.3 Basel proteome"
   ]
  },
  {
   "cell_type": "code",
   "execution_count": 8,
   "metadata": {},
   "outputs": [],
   "source": [
    "# Rename sequence to sequence_phage\n",
    "basel_proteome = basel_proteome.rename(columns={'sequence': 'sequence_phage'})\n",
    "\n",
    "# Keep only useful columns\n",
    "keep_columns = ['bas', 'seqID_phage', 'protein', 'sequence_phage']\n",
    "basel_proteome = basel_proteome[keep_columns]"
   ]
  },
  {
   "cell_type": "code",
   "execution_count": 9,
   "metadata": {},
   "outputs": [
    {
     "data": {
      "text/html": [
       "<div>\n",
       "<style scoped>\n",
       "    .dataframe tbody tr th:only-of-type {\n",
       "        vertical-align: middle;\n",
       "    }\n",
       "\n",
       "    .dataframe tbody tr th {\n",
       "        vertical-align: top;\n",
       "    }\n",
       "\n",
       "    .dataframe thead th {\n",
       "        text-align: right;\n",
       "    }\n",
       "</style>\n",
       "<table border=\"1\" class=\"dataframe\">\n",
       "  <thead>\n",
       "    <tr style=\"text-align: right;\">\n",
       "      <th></th>\n",
       "      <th>bas</th>\n",
       "      <th>seqID_phage</th>\n",
       "      <th>protein</th>\n",
       "      <th>sequence_phage</th>\n",
       "    </tr>\n",
       "  </thead>\n",
       "  <tbody>\n",
       "    <tr>\n",
       "      <th>0</th>\n",
       "      <td>Bas01</td>\n",
       "      <td>lcl|MZ501051.1_prot_QXV76132.1_1</td>\n",
       "      <td>terminase small subunit</td>\n",
       "      <td>MSKAALKMGEGNFKALYNKKYGDIAMVAINRKYTPEEVFDFAVRYF...</td>\n",
       "    </tr>\n",
       "    <tr>\n",
       "      <th>1</th>\n",
       "      <td>Bas01</td>\n",
       "      <td>lcl|MZ501051.1_prot_QXV76133.1_2</td>\n",
       "      <td>hypothetical protein</td>\n",
       "      <td>MKGFIKLFIWYYLLTSISLCVFMLVVKLWLI</td>\n",
       "    </tr>\n",
       "  </tbody>\n",
       "</table>\n",
       "</div>"
      ],
      "text/plain": [
       "     bas                       seqID_phage                  protein  \\\n",
       "0  Bas01  lcl|MZ501051.1_prot_QXV76132.1_1  terminase small subunit   \n",
       "1  Bas01  lcl|MZ501051.1_prot_QXV76133.1_2     hypothetical protein   \n",
       "\n",
       "                                      sequence_phage  \n",
       "0  MSKAALKMGEGNFKALYNKKYGDIAMVAINRKYTPEEVFDFAVRYF...  \n",
       "1                    MKGFIKLFIWYYLLTSISLCVFMLVVKLWLI  "
      ]
     },
     "metadata": {},
     "output_type": "display_data"
    },
    {
     "data": {
      "text/plain": [
       "(35416, 4)"
      ]
     },
     "metadata": {},
     "output_type": "display_data"
    }
   ],
   "source": [
    "display(basel_proteome.head(2))\n",
    "display(basel_proteome.shape)"
   ]
  },
  {
   "cell_type": "markdown",
   "metadata": {},
   "source": [
    "### 2.4 k12 proteome"
   ]
  },
  {
   "cell_type": "code",
   "execution_count": 10,
   "metadata": {},
   "outputs": [],
   "source": [
    "# List columns to keep and columns to rename\n",
    "keep_columns = ['seqID_k12', 'sequence', 'GN']\n",
    "change_names = {'sequence': 'sequence_k12',\n",
    "                'GN': 'GN_k12'}\n",
    "\n",
    "# Subset receptors_k12 and rename columns\n",
    "k12_proteome = k12_proteome[keep_columns]\n",
    "k12_proteome.rename(columns=change_names, inplace=True)\n",
    "\n",
    "del keep_columns, change_names"
   ]
  },
  {
   "cell_type": "code",
   "execution_count": 11,
   "metadata": {},
   "outputs": [
    {
     "data": {
      "text/html": [
       "<div>\n",
       "<style scoped>\n",
       "    .dataframe tbody tr th:only-of-type {\n",
       "        vertical-align: middle;\n",
       "    }\n",
       "\n",
       "    .dataframe tbody tr th {\n",
       "        vertical-align: top;\n",
       "    }\n",
       "\n",
       "    .dataframe thead th {\n",
       "        text-align: right;\n",
       "    }\n",
       "</style>\n",
       "<table border=\"1\" class=\"dataframe\">\n",
       "  <thead>\n",
       "    <tr style=\"text-align: right;\">\n",
       "      <th></th>\n",
       "      <th>seqID_k12</th>\n",
       "      <th>sequence_k12</th>\n",
       "      <th>GN_k12</th>\n",
       "    </tr>\n",
       "  </thead>\n",
       "  <tbody>\n",
       "    <tr>\n",
       "      <th>0</th>\n",
       "      <td>sp|A5A616|MGTS_ECOLI</td>\n",
       "      <td>MLGNMNVFMAVLGIILFSGFLAAYFSHKWDD</td>\n",
       "      <td>mgtS</td>\n",
       "    </tr>\n",
       "    <tr>\n",
       "      <th>1</th>\n",
       "      <td>sp|O32583|THIS_ECOLI</td>\n",
       "      <td>MQILFNDQAMQCAAGQTVHELLEQLDQRQAGAALAINQQIVPREQW...</td>\n",
       "      <td>thiS</td>\n",
       "    </tr>\n",
       "  </tbody>\n",
       "</table>\n",
       "</div>"
      ],
      "text/plain": [
       "              seqID_k12                                       sequence_k12  \\\n",
       "0  sp|A5A616|MGTS_ECOLI                    MLGNMNVFMAVLGIILFSGFLAAYFSHKWDD   \n",
       "1  sp|O32583|THIS_ECOLI  MQILFNDQAMQCAAGQTVHELLEQLDQRQAGAALAINQQIVPREQW...   \n",
       "\n",
       "  GN_k12  \n",
       "0   mgtS  \n",
       "1   thiS  "
      ]
     },
     "metadata": {},
     "output_type": "display_data"
    },
    {
     "data": {
      "text/plain": [
       "(4403, 3)"
      ]
     },
     "metadata": {},
     "output_type": "display_data"
    }
   ],
   "source": [
    "display(k12_proteome.head(2))\n",
    "display(k12_proteome.shape)"
   ]
  },
  {
   "cell_type": "markdown",
   "metadata": {},
   "source": [
    "## 3. Merge receptors and k12_proteome"
   ]
  },
  {
   "cell_type": "markdown",
   "metadata": {},
   "source": [
    "### 3.1 k12 genes unicity"
   ]
  },
  {
   "cell_type": "markdown",
   "metadata": {},
   "source": [
    "First of all, let's check for the unicity of the gene names in k12 proteome"
   ]
  },
  {
   "cell_type": "code",
   "execution_count": 12,
   "metadata": {},
   "outputs": [
    {
     "name": "stdout",
     "output_type": "stream",
     "text": [
      "Number of genes with a count of 1: 4403\n",
      "Number of genes with a count different than 1: 0\n"
     ]
    }
   ],
   "source": [
    "# Count occurences in k12_proteome of each GN\n",
    "GN_count = k12_proteome['GN_k12'].str.lower().value_counts().to_frame()\n",
    "\n",
    "# Print count of genes with a count of 1 and different than 1\n",
    "print(f'Number of genes with a count of 1: {len(GN_count.loc[GN_count[\"count\"] == 1])}')\n",
    "print(f'Number of genes with a count different than 1: {len(GN_count.loc[GN_count[\"count\"] != 1])}')"
   ]
  },
  {
   "cell_type": "markdown",
   "metadata": {},
   "source": [
    "We can confirm that there are no duplicates among the k12 genes"
   ]
  },
  {
   "cell_type": "markdown",
   "metadata": {},
   "source": [
    "### 3.2 Match receptor and sequence\n",
    "Let's match each phage in the receptors dataframe with the sequence of the associated receptor, contained in k12_proteome.\\\n",
    "We expect that many entries from receptors could match to the same gene in k12_proteome, and not viceversa. \\\n",
    "We validate this using validate='many_to_one' during the merge, which would raise an error otherwise."
   ]
  },
  {
   "cell_type": "code",
   "execution_count": 13,
   "metadata": {},
   "outputs": [],
   "source": [
    "# Add a lower case column of receptor_protein as common identifier between receptors and k12_proteome\n",
    "receptors['receptor_protein_lower'] = receptors['receptor_protein'].str.lower()\n",
    "k12_proteome['GN_lower'] = k12_proteome['GN_k12'].str.lower()\n",
    "\n",
    "# Merge datasets\n",
    "receptors_k12 = receptors.merge(k12_proteome, how='inner', left_on='receptor_protein_lower', right_on='GN_lower', suffixes=('_phage', '_k12'), validate='many_to_one')\n",
    "\n",
    "# Drop GN_lower and receptor_protein_lower and order by bas\n",
    "receptors_k12.drop(columns=['GN_lower', 'receptor_protein_lower'], inplace=True)\n",
    "receptors_k12.sort_values(by=['bas'], inplace=True)\n",
    "\n",
    "# Drop GN_k12 and GN_lower in k12_proteome\n",
    "k12_proteome.drop(columns=['GN_k12', 'GN_lower'], inplace=True)"
   ]
  },
  {
   "cell_type": "code",
   "execution_count": 14,
   "metadata": {},
   "outputs": [
    {
     "data": {
      "text/html": [
       "<div>\n",
       "<style scoped>\n",
       "    .dataframe tbody tr th:only-of-type {\n",
       "        vertical-align: middle;\n",
       "    }\n",
       "\n",
       "    .dataframe tbody tr th {\n",
       "        vertical-align: top;\n",
       "    }\n",
       "\n",
       "    .dataframe thead th {\n",
       "        text-align: right;\n",
       "    }\n",
       "</style>\n",
       "<table border=\"1\" class=\"dataframe\">\n",
       "  <thead>\n",
       "    <tr style=\"text-align: right;\">\n",
       "      <th></th>\n",
       "      <th>bas</th>\n",
       "      <th>phage</th>\n",
       "      <th>receptor_protein</th>\n",
       "      <th>seqID_k12</th>\n",
       "      <th>sequence_k12</th>\n",
       "      <th>GN_k12</th>\n",
       "    </tr>\n",
       "  </thead>\n",
       "  <tbody>\n",
       "    <tr>\n",
       "      <th>0</th>\n",
       "      <td>Bas01</td>\n",
       "      <td>Escherichia phage AugustePiccard</td>\n",
       "      <td>LptD</td>\n",
       "      <td>sp|P31554|LPTD_ECOLI</td>\n",
       "      <td>MKKRIPTLLATMIATALYSQQGLAADLASQCMLGVPSYDRPLVQGD...</td>\n",
       "      <td>lptD</td>\n",
       "    </tr>\n",
       "    <tr>\n",
       "      <th>1</th>\n",
       "      <td>Bas02</td>\n",
       "      <td>Escherichia phage JeanPiccard</td>\n",
       "      <td>LptD</td>\n",
       "      <td>sp|P31554|LPTD_ECOLI</td>\n",
       "      <td>MKKRIPTLLATMIATALYSQQGLAADLASQCMLGVPSYDRPLVQGD...</td>\n",
       "      <td>lptD</td>\n",
       "    </tr>\n",
       "    <tr>\n",
       "      <th>7</th>\n",
       "      <td>Bas03</td>\n",
       "      <td>Escherichia phage JulesPiccard</td>\n",
       "      <td>FhuA</td>\n",
       "      <td>sp|P06971|FHUA_ECOLI</td>\n",
       "      <td>MARSKTAQPKHSLRKIAVVVATAVSGMSVYAQAAVEPKEDTITVTA...</td>\n",
       "      <td>fhuA</td>\n",
       "    </tr>\n",
       "    <tr>\n",
       "      <th>17</th>\n",
       "      <td>Bas04</td>\n",
       "      <td>Escherichia phage FritzSarasin</td>\n",
       "      <td>BtuB</td>\n",
       "      <td>sp|P06129|BTUB_ECOLI</td>\n",
       "      <td>MIKKASLLTACSVTAFSAWAQDTSPDTLVVTANRFEQPRSTVLAPT...</td>\n",
       "      <td>btuB</td>\n",
       "    </tr>\n",
       "    <tr>\n",
       "      <th>8</th>\n",
       "      <td>Bas05</td>\n",
       "      <td>Escherichia phage PeterMerian</td>\n",
       "      <td>FhuA</td>\n",
       "      <td>sp|P06971|FHUA_ECOLI</td>\n",
       "      <td>MARSKTAQPKHSLRKIAVVVATAVSGMSVYAQAAVEPKEDTITVTA...</td>\n",
       "      <td>fhuA</td>\n",
       "    </tr>\n",
       "  </tbody>\n",
       "</table>\n",
       "</div>"
      ],
      "text/plain": [
       "      bas                             phage receptor_protein  \\\n",
       "0   Bas01  Escherichia phage AugustePiccard             LptD   \n",
       "1   Bas02     Escherichia phage JeanPiccard             LptD   \n",
       "7   Bas03    Escherichia phage JulesPiccard             FhuA   \n",
       "17  Bas04    Escherichia phage FritzSarasin             BtuB   \n",
       "8   Bas05     Escherichia phage PeterMerian             FhuA   \n",
       "\n",
       "               seqID_k12                                       sequence_k12  \\\n",
       "0   sp|P31554|LPTD_ECOLI  MKKRIPTLLATMIATALYSQQGLAADLASQCMLGVPSYDRPLVQGD...   \n",
       "1   sp|P31554|LPTD_ECOLI  MKKRIPTLLATMIATALYSQQGLAADLASQCMLGVPSYDRPLVQGD...   \n",
       "7   sp|P06971|FHUA_ECOLI  MARSKTAQPKHSLRKIAVVVATAVSGMSVYAQAAVEPKEDTITVTA...   \n",
       "17  sp|P06129|BTUB_ECOLI  MIKKASLLTACSVTAFSAWAQDTSPDTLVVTANRFEQPRSTVLAPT...   \n",
       "8   sp|P06971|FHUA_ECOLI  MARSKTAQPKHSLRKIAVVVATAVSGMSVYAQAAVEPKEDTITVTA...   \n",
       "\n",
       "   GN_k12  \n",
       "0    lptD  \n",
       "1    lptD  \n",
       "7    fhuA  \n",
       "17   btuB  \n",
       "8    fhuA  "
      ]
     },
     "metadata": {},
     "output_type": "display_data"
    },
    {
     "data": {
      "text/plain": [
       "(50, 6)"
      ]
     },
     "metadata": {},
     "output_type": "display_data"
    }
   ],
   "source": [
    "display(receptors_k12.head())\n",
    "display(receptors_k12.shape)"
   ]
  },
  {
   "cell_type": "markdown",
   "metadata": {},
   "source": [
    "Let's store a dict of the k12 proteins which are receptors involved in any interaction with the phages and the other way around"
   ]
  },
  {
   "cell_type": "code",
   "execution_count": 15,
   "metadata": {},
   "outputs": [],
   "source": [
    "# Store seqID_k12 unique values k12_set['receptors'] the seqID_k12 of k12_proteome which are not in receptors_k12 in k12_set['others']\n",
    "k12_set = {'receptors': set(receptors_k12['seqID_k12'].tolist()),\n",
    "           'others': set(k12_proteome['seqID_k12'].tolist()) - set(receptors_k12['seqID_k12'].tolist())}"
   ]
  },
  {
   "cell_type": "code",
   "execution_count": 16,
   "metadata": {},
   "outputs": [
    {
     "name": "stdout",
     "output_type": "stream",
     "text": [
      "Number of receptors: 10\n",
      "Number of others: 4393\n"
     ]
    }
   ],
   "source": [
    "# Print the number of elements in each set\n",
    "print('Number of receptors: {}'.format(len(k12_set['receptors'])))\n",
    "print('Number of others: {}'.format(len(k12_set['others'])))"
   ]
  },
  {
   "cell_type": "markdown",
   "metadata": {},
   "source": [
    "## Fish RBPs\n",
    "Let's define a regex to get RBPs from the 'protein' tag of basel proteome, as well a regex to exclude the ones which are not RBPs. \\"
   ]
  },
  {
   "cell_type": "code",
   "execution_count": 17,
   "metadata": {},
   "outputs": [],
   "source": [
    "# Define gene column in basel_proteome from the seqID_phage\n",
    "# Where the seqID_phage has lcl|MZ501051.1_prot_QXV76132.1_1, the gene is MZ501051\n",
    "basel_proteome['gene'] = basel_proteome['seqID_phage'].str.split('.').str[0].str.split('|').str[1]"
   ]
  },
  {
   "cell_type": "code",
   "execution_count": 19,
   "metadata": {},
   "outputs": [],
   "source": [
    "import re\n",
    "INCLUDE_REGEX = 'tail?(.?|\\s*)(?:spike?|fib(?:er|re))|recept(?:o|e)r(.?|\\s*)(?:bind|recogn).*(?:protein)?|(?<!\\w)RBP(?!a)'\n",
    "# Create exclusion list from the file in data/raw as a set. The file is in format gene1|gene2|gene3|...\n",
    "# Reference:\n",
    "# https://github.com/RyanCook94/inphared/blob/main/exclusion_list.txt\n",
    "with open(os.path.join('..', 'data', 'raw', 'exclusion_list.txt'), 'r') as f: \n",
    "    EXCLUSION_LIST = set(f.read().split('|'))"
   ]
  },
  {
   "cell_type": "code",
   "execution_count": 21,
   "metadata": {},
   "outputs": [
    {
     "name": "stdout",
     "output_type": "stream",
     "text": [
      "Number of rows in RBPs: 852\n",
      "Number of rows in RBPs after removing exclusion list: 852\n"
     ]
    },
    {
     "name": "stderr",
     "output_type": "stream",
     "text": [
      "C:\\Users\\pf259\\AppData\\Local\\Temp\\ipykernel_18124\\737712705.py:3: UserWarning: This pattern is interpreted as a regular expression, and has match groups. To actually get the groups, use str.extract.\n",
      "  RBPs = RBPs[RBPs['protein'].str.contains(INCLUDE_REGEX, flags=re.IGNORECASE, regex=True)]\n"
     ]
    }
   ],
   "source": [
    "# Filter basel_proteeme to keep only the rows where protein matches the regex\n",
    "RBPs = basel_proteome.dropna(subset=['protein'])\n",
    "RBPs = RBPs[RBPs['protein'].str.contains(INCLUDE_REGEX, flags=re.IGNORECASE, regex=True)]\n",
    "print(f'Number of rows in RBPs: {len(RBPs)}')\n",
    "\n",
    "# Remove rows where gene matches the exclusion list\n",
    "RBPs = RBPs[~RBPs['gene'].isin(EXCLUSION_LIST)]\n",
    "print(f'Number of rows in RBPs after removing exclusion list: {len(RBPs)}')"
   ]
  }
 ],
 "metadata": {
  "kernelspec": {
   "display_name": "environment_1",
   "language": "python",
   "name": "python3"
  },
  "language_info": {
   "codemirror_mode": {
    "name": "ipython",
    "version": 3
   },
   "file_extension": ".py",
   "mimetype": "text/x-python",
   "name": "python",
   "nbconvert_exporter": "python",
   "pygments_lexer": "ipython3",
   "version": "3.11.5"
  },
  "orig_nbformat": 4
 },
 "nbformat": 4,
 "nbformat_minor": 2
}
