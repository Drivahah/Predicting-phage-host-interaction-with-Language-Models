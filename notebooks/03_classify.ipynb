{
 "cells": [
  {
   "cell_type": "markdown",
   "metadata": {},
   "source": [
    "# 03_classify"
   ]
  },
  {
   "cell_type": "markdown",
   "metadata": {},
   "source": [
    "## Libraries"
   ]
  },
  {
   "cell_type": "code",
   "execution_count": null,
   "metadata": {},
   "outputs": [],
   "source": [
    "import os\n",
    "import pandas as pd\n",
    "\n",
    "# Import user defined libraries\n",
    "import sys\n",
    "sys.path.append(\"../src\")\n",
    "from PairingPredictor import Classifier"
   ]
  },
  {
   "cell_type": "markdown",
   "metadata": {},
   "source": [
    "## Parameters"
   ]
  },
  {
   "cell_type": "code",
   "execution_count": null,
   "metadata": {},
   "outputs": [],
   "source": [
    "# Define path to input data\n",
    "INPUT_PATH = os.path.join('..', 'data', 'interim')\n",
    "PROTEIN_PAIRS = os.path.join(INPUT_PATH, '2_model_df.pkl')\n",
    "\n",
    "# Define logs and intermediate output paths\n",
    "DEBUG = True\n",
    "if DEBUG:\n",
    "    DEBUG_PATH = os.path.join('..', 'logs', '03_debug.txt')\n",
    "else:\n",
    "    DEBUG_PATH = None\n",
    "LOG_PATH = os.path.join('..', 'logs', '03_classify.log')\n",
    "EMBEDDED_PROTEIN_PAIRS_PATH = os.path.join('..', 'data', 'interim', '3_embedded_protein_pairs.pt')\n",
    "\n",
    "TRAIN = True"
   ]
  },
  {
   "cell_type": "markdown",
   "metadata": {},
   "source": [
    "## Run classifier"
   ]
  },
  {
   "cell_type": "code",
   "execution_count": null,
   "metadata": {},
   "outputs": [],
   "source": [
    "predictor = Classifier(PROTEIN_PAIRS, DEBUG_PATH, LOG_PATH)\n",
    "predictor.embed_pairs(EMBEDDED_PROTEIN_PAIRS_PATH, DEBUG)\n",
    "predictor.concatenate_embeddings(EMBEDDED_PROTEIN_PAIRS_PATH, DEBUG)\n",
    "predictor.random_split()\n",
    "predictor.ADASYN() # Oversampling\n",
    "predictor.classify(TRAIN)"
   ]
  }
 ],
 "metadata": {
  "language_info": {
   "name": "python"
  }
 },
 "nbformat": 4,
 "nbformat_minor": 2
}
