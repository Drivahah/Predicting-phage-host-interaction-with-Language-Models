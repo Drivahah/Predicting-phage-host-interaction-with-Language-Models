{
 "cells": [
  {
   "cell_type": "markdown",
   "metadata": {},
   "source": [
    "# 03_classify"
   ]
  },
  {
   "cell_type": "code",
   "execution_count": null,
   "metadata": {},
   "outputs": [],
   "source": [
    "import os\n",
    "import pandas as pd\n",
    "\n",
    "# Import user defined libraries\n",
    "import sys\n",
    "sys.path.append(\"../src\")\n",
    "from PairingPredictor import PairingPredictor"
   ]
  },
  {
   "cell_type": "markdown",
   "metadata": {},
   "source": [
    "## Load dataset"
   ]
  },
  {
   "cell_type": "code",
   "execution_count": null,
   "metadata": {},
   "outputs": [],
   "source": [
    "# Load 2_model_df.pkl\n",
    "INPUT_PATH = os.path.join('..', 'data', 'interim')\n",
    "protein_pairs = pd.read_pickle(os.path.join(INPUT_PATH, '2_model_df.pkl'))"
   ]
  },
  {
   "cell_type": "code",
   "execution_count": null,
   "metadata": {},
   "outputs": [],
   "source": [
    "DEBUG = True\n",
    "EMBEDDED_PROTEIN_PAIRS_PATH = os.path.join('..', 'data', 'interim', '3_embedded_protein_pairs.pt')\n",
    "\n",
    "predictor = PairingPredictor(protein_pairs, DEBUG)\n",
    "predictor.embed_pairs(EMBEDDED_PROTEIN_PAIRS_PATH, DEBUG)\n",
    "predictor.concatenate_embeddings(EMBEDDED_PROTEIN_PAIRS_PATH, DEBUG)\n",
    "\n",
    "LOG_PATH = '03_classify.log'\n",
    "predictor.save_log(LOG_PATH)"
   ]
  }
 ],
 "metadata": {
  "language_info": {
   "name": "python"
  }
 },
 "nbformat": 4,
 "nbformat_minor": 2
}
