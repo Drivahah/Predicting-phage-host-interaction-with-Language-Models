{
 "cells": [
  {
   "attachments": {},
   "cell_type": "markdown",
   "metadata": {},
   "source": [
    "# 01 - Data Exploration and labelling\n",
    "\n",
    "In Maffei.xlsx, in the sheet summary statistics, it is reported which phage causes lysis in which E.coli strain. Each row represents a phage, and the columns represent the host. The classification is binary (1=lysis, 0=no-lysis). For the sake of the project, we will consider successful infection only when there is lysis."
   ]
  },
  {
   "attachments": {},
   "cell_type": "markdown",
   "metadata": {},
   "source": [
    "## Import libraries"
   ]
  },
  {
   "cell_type": "code",
   "execution_count": null,
   "metadata": {},
   "outputs": [
    {
     "ename": "IndentationError",
     "evalue": "unexpected indent (fastaLoad.py, line 60)",
     "output_type": "error",
     "traceback": [
      "Traceback \u001b[1;36m(most recent call last)\u001b[0m:\n",
      "\u001b[0m  File \u001b[0;32m~\\AppData\\Roaming\\Python\\Python311\\site-packages\\IPython\\core\\interactiveshell.py:3526\u001b[0m in \u001b[0;35mrun_code\u001b[0m\n    exec(code_obj, self.user_global_ns, self.user_ns)\u001b[0m\n",
      "\u001b[1;36m  Cell \u001b[1;32mIn[1], line 7\u001b[1;36m\n\u001b[1;33m    from fastaLoad import fasta\u001b[1;36m\n",
      "\u001b[1;36m  File \u001b[1;32mc:\\Users\\pf259\\Projects\\Thesis\\phage_host_protein_pair\\notebooks\\../src\\fastaLoad.py:60\u001b[1;36m\u001b[0m\n\u001b[1;33m    else:\u001b[0m\n\u001b[1;37m    ^\u001b[0m\n\u001b[1;31mIndentationError\u001b[0m\u001b[1;31m:\u001b[0m unexpected indent\n"
     ]
    }
   ],
   "source": [
    "import pandas as pd\n",
    "import os\n",
    "\n",
    "# Import user defined libraries\n",
    "import sys\n",
    "sys.path.append(\"../src\")\n",
    "from fastaLoad import fasta"
   ]
  },
  {
   "attachments": {},
   "cell_type": "markdown",
   "metadata": {},
   "source": [
    "## 1.Load data\n"
   ]
  },
  {
   "cell_type": "markdown",
   "metadata": {},
   "source": [
    "### 1.1 Maffei\n",
    "Let's load data from Maffei. The excel sheet is not clean for import and some rows and columns need to be skipped, as well as some header renamed.\\\n",
    "Also, we only care about the phage identifiers and lysis data, so we'll only keep those columns.\\\n",
    "We obtain a maffei dataset with the first 4 columns identifying the virus: bas, family, genus and phage.\\\n",
    "The following columns state host strains and contain binary values for lysis or not: 1 = lysis"
   ]
  },
  {
   "cell_type": "code",
   "execution_count": null,
   "metadata": {},
   "outputs": [
    {
     "ename": "",
     "evalue": "",
     "output_type": "error",
     "traceback": [
      "\u001b[1;31mRunning cells with 'environment_1' requires the ipykernel package.\n",
      "\u001b[1;31mRun the following command to install 'ipykernel' into the Python environment. \n",
      "\u001b[1;31mCommand: 'c:/Users/pf259/Projects/Thesis/phage_host_protein_pair/environment_1/Scripts/python.exe -m pip install ipykernel -U --force-reinstall'"
     ]
    }
   ],
   "source": [
    "# Maffei raw data\n",
    "RAW_PATH = os.path.join('..', 'data', 'raw')\n",
    "\n",
    "maffei = pd.read_excel(os.path.join(RAW_PATH, 'Maffei.xlsx'), sheet_name='summary statistics', skiprows=1, header=[0,1,2])\n",
    "maffei.drop(columns=maffei.columns[0], inplace=True)\n",
    "\n",
    "# Store the first level of the first 4 headers in a list\n",
    "header = [col[0] for col in maffei.columns.tolist()[:4]]\n",
    "header.append('lysis observed (yes=1, no=0)')\n",
    "\n",
    "# Keep only selected headers\n",
    "maffei = maffei.loc[:, header]\n",
    "\n",
    "# Drop odd columns up to 7\n",
    "maffei.drop(columns=maffei.columns[1:9:2], inplace=True)\n",
    "\n",
    "# Remove the first two rows of headers\n",
    "maffei.columns = maffei.columns.droplevel([0,1])\n",
    "\n",
    "# Substitute the first 4 headers\n",
    "maffei = maffei.set_axis(header[:4] + maffei.columns[4:].tolist(), axis=1)\n",
    "\n",
    "# Drop last column (who was kept for some mysterious reason)\n",
    "maffei = maffei.iloc[:, :10]\n",
    "\n",
    "# Rename columns\n",
    "change_names = dict()\n",
    "change_names= {'ICTV family (subfamily)': 'family',\n",
    "               'ICTV genus': 'genus',\n",
    "               'Bas#': 'bas',\n",
    "               'Phage (name)': 'phage'}\n",
    "maffei.rename(columns=change_names, inplace=True)\n",
    "del change_names\n",
    "maffei.columns = maffei.columns.str.replace(' ', '_')\n",
    "maffei.columns = maffei.columns.str.replace('.', '')\n",
    "\n",
    "# Move bas column to first position\n",
    "bas = maffei.pop('bas')\n",
    "maffei.insert(0, 'bas', bas)\n",
    "del bas\n",
    "\n",
    "# Define schema\n",
    "header = maffei.columns[:4].tolist()\n",
    "maffei[header] = maffei[header].astype('string')\n",
    "maffei.iloc[:, 4:] = maffei.iloc[:, 4:].astype('int64') # Could be bool or categorical, but int64 is more convenient for machine learning purposes\n",
    "del header\n",
    "\n",
    "display(maffei.head())\n",
    "maffei.dtypes\n"
   ]
  },
  {
   "cell_type": "markdown",
   "metadata": {},
   "source": [
    "### 1.2 Basel receptors\n",
    "Basel receptors describes the receptors for each phage in Maffei's paper"
   ]
  },
  {
   "cell_type": "code",
   "execution_count": null,
   "metadata": {},
   "outputs": [
    {
     "ename": "",
     "evalue": "",
     "output_type": "error",
     "traceback": [
      "\u001b[1;31mRunning cells with 'environment_1' requires the ipykernel package.\n",
      "\u001b[1;31mRun the following command to install 'ipykernel' into the Python environment. \n",
      "\u001b[1;31mCommand: 'c:/Users/pf259/Projects/Thesis/phage_host_protein_pair/environment_1/Scripts/python.exe -m pip install ipykernel -U --force-reinstall'"
     ]
    }
   ],
   "source": [
    "receptors = pd.read_csv(os.path.join(RAW_PATH, 'basel_receptors.csv'), sep=';')\n",
    "\n",
    "# Rename columns\n",
    "change_names = {'ICTV genus': 'genus',\n",
    "                'Bas##': 'bas',\n",
    "                'Phage (name)': 'phage',\n",
    "                'closest relative (BLASTN total score)': 'closest relative'} \n",
    "receptors.rename(columns=change_names, inplace=True)\n",
    "del change_names\n",
    "receptors.columns = receptors.columns.str.replace(' ', '_')\n",
    "\n",
    "# Move genus and phage columns to second and third position\n",
    "genus = receptors.pop('genus')\n",
    "phage = receptors.pop('phage')\n",
    "receptors.insert(1, 'genus', genus)\n",
    "receptors.insert(2, 'phage', phage)\n",
    "del genus, phage\n",
    "\n",
    "# Define schema\n",
    "receptors = receptors.astype('string')\n",
    "\n",
    "display(receptors.head())\n",
    "receptors.dtypes"
   ]
  },
  {
   "cell_type": "markdown",
   "metadata": {},
   "source": [
    "### 1.3 Phage protein labels\n",
    "Phage protein is a list of preotein sequences IDs (FASTA) for the viruses in Maffei's paper. It states the categorization of these proteins according to the following Neural Networks:\n",
    "\n",
    "        PhaNNS\n",
    "        PhageRBPdetect\n",
    "        ESM-based method developed by Yumeng\\\n",
    "\\\n",
    "Interpreting the Labels:\n",
    "\n",
    "        Columns 1-11 present the label scores for PhaNNs, with values approaching 10 signifying high confidence.\n",
    "        Column 12 provides PhaNNs' confidence level.\n",
    "        Column 13 indicates PhageRBPdetect predictions: 1 denotes an RBP prediction, while 0 signifies otherwise.\n",
    "        Column 14 offers PhageRBPdetect scores, with values close to 1 signifying strong confidence.\n",
    "        Column 15 presents the ESM-based label.\n",
    "        Column 16 features 1 if the label in Column 15 is \"tail_fiber.\""
   ]
  },
  {
   "cell_type": "code",
   "execution_count": null,
   "metadata": {},
   "outputs": [
    {
     "ename": "",
     "evalue": "",
     "output_type": "error",
     "traceback": [
      "\u001b[1;31mRunning cells with 'environment_1' requires the ipykernel package.\n",
      "\u001b[1;31mRun the following command to install 'ipykernel' into the Python environment. \n",
      "\u001b[1;31mCommand: 'c:/Users/pf259/Projects/Thesis/phage_host_protein_pair/environment_1/Scripts/python.exe -m pip install ipykernel -U --force-reinstall'"
     ]
    }
   ],
   "source": [
    "proteins = pd.read_csv(os.path.join(RAW_PATH, 'phage_proteins_labels.csv'), sep=',')\n",
    "\n",
    "# Rename columns\n",
    "proteins.columns = proteins.columns.str.replace('.', '_')\n",
    "proteins.rename(columns=lambda x: x.lower() if proteins.columns.get_loc(x) < 10 else x, inplace=True)\n",
    "proteins.rename(columns=lambda x: x.lower() if proteins.columns.get_loc(x) in [11, 12] else x, inplace=True)\n",
    "proteins.rename(columns={'name': 'seqID'}, inplace=True)\n",
    "\n",
    "# Define schema\n",
    "proteins['seqID'] = proteins['seqID'].astype('string')\n",
    "proteins.iloc[:, 1:13] = proteins.iloc[:, 1:13].astype('float64')\n",
    "proteins['PhageRBPdetect_prediction'] = proteins['PhageRBPdetect_prediction'].astype('int64')\n",
    "proteins['PhageRBDdetect_score'] = proteins['PhageRBDdetect_score'].astype('float64')\n",
    "proteins['ESM_based_label'] = proteins['ESM_based_label'].astype('string')\n",
    "proteins['ESM_based_fiber_prediction'] = proteins['ESM_based_fiber_prediction'].astype('int64')\n",
    "\n",
    "display(proteins.head())\n",
    "proteins.dtypes"
   ]
  },
  {
   "cell_type": "markdown",
   "metadata": {},
   "source": [
    "### 1.4 Basel proteome\n",
    "basel_proteome.fasta includes the full proteome of each phage mentioned in the Maffei et al. paper. This covers a total of 248 phages that have been sequenced and annotated. Specifically, this includes 69 phages from the Basel collection.\n",
    "\n",
    "Let's load the fasta file in a dataframe, with each tag of the header as a column, as well as the sequence"
   ]
  },
  {
   "cell_type": "code",
   "execution_count": null,
   "metadata": {},
   "outputs": [
    {
     "ename": "",
     "evalue": "",
     "output_type": "error",
     "traceback": [
      "\u001b[1;31mRunning cells with 'environment_1' requires the ipykernel package.\n",
      "\u001b[1;31mRun the following command to install 'ipykernel' into the Python environment. \n",
      "\u001b[1;31mCommand: 'c:/Users/pf259/Projects/Thesis/phage_host_protein_pair/environment_1/Scripts/python.exe -m pip install ipykernel -U --force-reinstall'"
     ]
    }
   ],
   "source": [
    "basel_proteome = fasta(os.path.join(RAW_PATH, 'basel_proteome.fasta'), 'phage')\n",
    "display(proteome.df.head())\n",
    "basel_proteome.df.dtypes\n",
    "basel_proteome.df.shape"
   ]
  },
  {
   "cell_type": "markdown",
   "metadata": {},
   "source": [
    "### 1.5 K12 proteome"
   ]
  },
  {
   "cell_type": "code",
   "execution_count": null,
   "metadata": {},
   "outputs": [
    {
     "ename": "",
     "evalue": "",
     "output_type": "error",
     "traceback": [
      "\u001b[1;31mRunning cells with 'environment_1' requires the ipykernel package.\n",
      "\u001b[1;31mRun the following command to install 'ipykernel' into the Python environment. \n",
      "\u001b[1;31mCommand: 'c:/Users/pf259/Projects/Thesis/phage_host_protein_pair/environment_1/Scripts/python.exe -m pip install ipykernel -U --force-reinstall'"
     ]
    }
   ],
   "source": [
    "k12_proteome = fasta(os.path.join(RAW_PATH, 'K12.fasta'), 'bacteria')\n",
    "display(k12_proteome.df.head())"
   ]
  },
  {
   "cell_type": "markdown",
   "metadata": {},
   "source": [
    "### 1.6 Save clean datesets in <code>data/interim/clean<code>"
   ]
  },
  {
   "cell_type": "code",
   "execution_count": null,
   "metadata": {},
   "outputs": [
    {
     "ename": "",
     "evalue": "",
     "output_type": "error",
     "traceback": [
      "\u001b[1;31mRunning cells with 'environment_1' requires the ipykernel package.\n",
      "\u001b[1;31mRun the following command to install 'ipykernel' into the Python environment. \n",
      "\u001b[1;31mCommand: 'c:/Users/pf259/Projects/Thesis/phage_host_protein_pair/environment_1/Scripts/python.exe -m pip install ipykernel -U --force-reinstall'"
     ]
    }
   ],
   "source": [
    "CLEAN_PATH = os.path.join('..', 'data', 'interim', 'clean')\n",
    "\n",
    "if not os.path.exists(CLEAN_PATH):\n",
    "    os.makedirs(CLEAN_PATH)\n",
    "\n",
    "maffei.to_csv(os.path.join(CLEAN_PATH, 'maffei.csv'), index=False)\n",
    "receptors.to_csv(os.path.join(CLEAN_PATH, 'receptors.csv'), index=False)\n",
    "proteins.to_csv(os.path.join(CLEAN_PATH, 'proteins.csv'), index=False)\n",
    "basel_proteome.df.to_csv(os.path.join(CLEAN_PATH, 'basel_proteome.csv'), index=False)\n"
   ]
  },
  {
   "cell_type": "markdown",
   "metadata": {},
   "source": [
    "## 2 Data exploration"
   ]
  },
  {
   "cell_type": "markdown",
   "metadata": {},
   "source": [
    "Some of basel receptors are terminal (aka secondary) and some are primary. In both columns there are both LPS and proteins. We only care about proteins, so it might be a good idea to add a column 'receptor_protein' which selects the proteic one from the two. Also, the 'receptor' column has no proteins, so it might be useless for further analysis. "
   ]
  }
 ],
 "metadata": {
  "kernelspec": {
   "display_name": "Python 3",
   "language": "python",
   "name": "python3"
  },
  "language_info": {
   "codemirror_mode": {
    "name": "ipython",
    "version": 3
   },
   "file_extension": ".py",
   "mimetype": "text/x-python",
   "name": "python",
   "nbconvert_exporter": "python",
   "pygments_lexer": "ipython3",
   "version": "3.11.5"
  },
  "orig_nbformat": 4,
  "vscode": {
   "interpreter": {
    "hash": "3aaba4d7d146b378e05fbb3dda40e2190396d76f525e3e0d3229bbdf23a9518e"
   }
  }
 },
 "nbformat": 4,
 "nbformat_minor": 2
}
